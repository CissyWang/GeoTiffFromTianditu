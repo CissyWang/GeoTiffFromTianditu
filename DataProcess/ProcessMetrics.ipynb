{
 "cells": [
  {
   "cell_type": "markdown",
   "metadata": {},
   "source": [
    "### 处理为空的元素"
   ]
  },
  {
   "cell_type": "markdown",
   "metadata": {},
   "source": [
    "应该先删除建筑为空的行"
   ]
  },
  {
   "cell_type": "code",
   "execution_count": null,
   "metadata": {},
   "outputs": [],
   "source": [
    "aoi_green.columns"
   ]
  },
  {
   "cell_type": "code",
   "execution_count": null,
   "metadata": {},
   "outputs": [],
   "source": [
    "aoi_green['green_ratio'].fillna(0, inplace=True) \n",
    "aoi_green['river_ratio'].fillna(0, inplace=True) "
   ]
  },
  {
   "cell_type": "code",
   "execution_count": null,
   "metadata": {},
   "outputs": [],
   "source": [
    "aoi_green[aoi_green.columns[3:]].fillna(0, inplace=True)"
   ]
  },
  {
   "cell_type": "code",
   "execution_count": null,
   "metadata": {},
   "outputs": [],
   "source": [
    "condition = (aoi_green['green_ratio'] == 0) & (aoi_green['river_ratio'] == 0)\n",
    "indices = aoi_green.index[condition]\n",
    "for col in aoi_green.columns[3:]:\n",
    "    aoi_green.loc[indices, col] = aoi_green[col].mean()"
   ]
  },
  {
   "cell_type": "code",
   "execution_count": null,
   "metadata": {},
   "outputs": [],
   "source": [
    "aoi_green.to_file(dir+'AOI_gpkg\\\\aoi_greenDropNA.gpkg', driver='GPKG')"
   ]
  },
  {
   "cell_type": "code",
   "execution_count": null,
   "metadata": {},
   "outputs": [],
   "source": [
    "aoi_green_df = aoi_green[aoi_green.columns[3:]]"
   ]
  },
  {
   "cell_type": "code",
   "execution_count": null,
   "metadata": {},
   "outputs": [],
   "source": [
    "import matplotlib.pyplot as plt\n",
    "aoi_green_df.hist(bins=50, figsize=(5, 3))\n",
    "plt.show()"
   ]
  },
  {
   "cell_type": "code",
   "execution_count": null,
   "metadata": {},
   "outputs": [],
   "source": [
    "corr_matrix = aoi_green_df.corr()\n",
    "import seaborn as sns\n",
    "sns.heatmap(corr_matrix, annot=True, cmap='coolwarm')\n",
    "plt.show()"
   ]
  },
  {
   "cell_type": "code",
   "execution_count": null,
   "metadata": {},
   "outputs": [],
   "source": [
    "import pandas as pd\n",
    "# 填充缺失值\n",
    "aoi_green['green_LPI'].fillna(aoi_green['green_LPI'].mean(), inplace=True) \n",
    "aoi_green['green_Fragmentation'].fillna(aoi_green['green_Fragmentation'].mean(), inplace=True)\n",
    "# 计算相关系数\n",
    "correlation = aoi_green['green_LPI'].corr(aoi_green['green_Fragmentation'])\n",
    "spearman_corr= aoi_green['green_LPI'].corr(aoi_green['green_Fragmentation'], method='spearman')\n",
    "kendall_corr =aoi_green['green_LPI'].corr(aoi_green['green_Fragmentation'], method='kendall')"
   ]
  },
  {
   "cell_type": "code",
   "execution_count": null,
   "metadata": {},
   "outputs": [],
   "source": [
    "correlation,spearman_corr,kendall_corr"
   ]
  },
  {
   "cell_type": "code",
   "execution_count": null,
   "metadata": {},
   "outputs": [],
   "source": [
    "inside_gpkg_files = [dir_green+'1_inside_{}_{}.gpkg'.format(t,i) for i in range(0,length)]\n",
    "# 读进内存\n",
    "gdfs_inside = BatchRead_gpkg(inside_gpkg_files)"
   ]
  },
  {
   "cell_type": "code",
   "execution_count": null,
   "metadata": {},
   "outputs": [],
   "source": [
    "range_gdfs[i].to_file(dir+'AOI_gpkg\\\\Proj_aoi_{}.gpkg'.format(i), driver='GPKG')\n",
    "\n",
    "gdfs[i].to_file(output_dir+'Proj_{}_{}.gpkg'.format(t,i), driver='GPKG')"
   ]
  },
  {
   "cell_type": "markdown",
   "metadata": {},
   "source": [
    "# 权重和熵值"
   ]
  },
  {
   "cell_type": "markdown",
   "metadata": {},
   "source": [
    "删除相关性过高的指标y"
   ]
  },
  {
   "cell_type": "markdown",
   "metadata": {},
   "source": [
    "数据标准化 无量纲处理"
   ]
  },
  {
   "cell_type": "markdown",
   "metadata": {},
   "source": [
    "熵值法\n",
    "熵值法是一种利用数据熵值信息即信息量大小进行权重计算的方法。它适用于数据之间有波动的情况，将数据波动作为一种信息。熵值法的基本原理是：指标的变异程度越小，所反映的信息量也越少，其对应的权值也应该越低。这种方法能够避免人为因素的影响，使得权重更具客观性和可信度\n",
    "。\n",
    "\n",
    "CRITIC权重法\n",
    "CRITIC方法是由Diakoulaki提出的一种客观权重赋权法，它基于评价指标的对比强度和指标之间的冲突性来综合衡量指标的客观权重。对比强度是指同一个指标各个评价方案取值差距的大小，以标准差的形式来表现。冲突性则用相关系数进行表示，两个指标之间具有较强的正相关，说明两个指标冲突性较低"
   ]
  },
  {
   "cell_type": "code",
   "execution_count": null,
   "metadata": {},
   "outputs": [],
   "source": [
    "# 确定客观权重\n",
    "\n",
    "# 假设data是一个numpy数组，每一列代表一个指标，每一行代表一个样本\n",
    "data = np.array([...])\n",
    "\n",
    "# 数据标准化\n",
    "data_norm = data / np.sum(data, axis=0)\n",
    "\n",
    "# 计算熵值\n",
    "k = 1 / np.log(len(data))\n",
    "entropy = -k * (data_norm * np.log(data_norm)).sum(axis=0)\n",
    "\n",
    "# 计算权重\n",
    "weight = (1 - entropy) / (1 - entropy).sum()"
   ]
  }
 ],
 "metadata": {
  "language_info": {
   "name": "python"
  }
 },
 "nbformat": 4,
 "nbformat_minor": 2
}
