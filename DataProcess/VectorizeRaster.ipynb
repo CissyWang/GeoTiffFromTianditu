{
 "cells": [
  {
   "cell_type": "code",
   "execution_count": null,
   "metadata": {},
   "outputs": [],
   "source": [
    "from osgeo import gdal, ogr, osr\n",
    "import os\n",
    "import matplotlib.pyplot as plt\n",
    "import geopandas as gpd\n",
    "import numpy as np\n",
    "import pygeoops\n",
    "import glob\n",
    "import traceback\n",
    "from shapely.ops import unary_union\n",
    "import pandas as pd\n",
    "\n",
    "# ThreadPoolExecutor：用于I/O密集型任务，使用线程来实现并发。\n",
    "# ProcessPoolExecutor：用于计算密集型任务，使用进程来实现并发，可以绕过GIL的限制，利用多核处理器。\n",
    "from concurrent.futures import ThreadPoolExecutor, as_completed,ProcessPoolExecutor"
   ]
  },
  {
   "cell_type": "code",
   "execution_count": null,
   "metadata": {},
   "outputs": [],
   "source": [
    "albers_proj = '+proj=aea +lat_1=18 +lat_2=50 +lat_0=0 +lon_0=105 +x_0=0 +y_0=0 +datum=WGS84 +units=m +no_defs'\n",
    "length = 1263\n",
    "dir = \"E:\\\\greenland_Campus\\\\GisDataforChina\\\\\""
   ]
  },
  {
   "cell_type": "markdown",
   "metadata": {},
   "source": [
    "# 1.栅格转矢量"
   ]
  },
  {
   "cell_type": "markdown",
   "metadata": {},
   "source": [
    "## utils"
   ]
  },
  {
   "cell_type": "markdown",
   "metadata": {},
   "source": [
    "压缩栅格文件"
   ]
  },
  {
   "cell_type": "code",
   "execution_count": null,
   "metadata": {},
   "outputs": [],
   "source": [
    "def compress_raster(input_file, output_file, compress_type='LZW'):\n",
    "    dataset = gdal.Open(input_file, gdal.GA_ReadOnly)\n",
    "    driver = gdal.GetDriverByName('GTiff')\n",
    "    # 设置压缩类型\n",
    "    options = ['TILED=YES', 'COMPRESS=' + compress_type]\n",
    "    driver.CreateCopy(output_file, dataset, 0, options, callback=None)\n",
    "    dataset = None"
   ]
  },
  {
   "cell_type": "markdown",
   "metadata": {},
   "source": [
    "shp 转成gpkg "
   ]
  },
  {
   "cell_type": "code",
   "execution_count": null,
   "metadata": {},
   "outputs": [],
   "source": [
    "def ConvertToGeoPackage(shp_file, gpkg_folder_path):\n",
    "    # 遍历所有Shapefile并转换为GeoPackage\n",
    "\n",
    "    # 读取Shapefile\n",
    "    gdf = gpd.read_file(shp_file)\n",
    "    \n",
    "    # 构建输出的GeoPackage文件名\n",
    "    gpkg_file = os.path.join(gpkg_folder_path, os.path.basename(shp_file).replace('.shp', '.gpkg'))\n",
    "    if os.path.exists(gpkg_file):\n",
    "        return # 如果GeoPackage文件已经存在，则跳过\n",
    "    \n",
    "    # 保存为GeoPackage文件\n",
    "    gdf.to_file(gpkg_file, driver='GPKG')"
   ]
  },
  {
   "cell_type": "markdown",
   "metadata": {},
   "source": [
    "简化几何边缘 "
   ]
  },
  {
   "cell_type": "code",
   "execution_count": null,
   "metadata": {},
   "outputs": [],
   "source": [
    "def SimplfyVector(output_vector, tolerance ):\n",
    "    # 打开刚刚创建的矢量数据源\n",
    "    vector_ds = ogr.Open(output_vector, update=True)\n",
    "    if vector_ds is None:\n",
    "        raise Exception('Unable to open the output vector data source.')\n",
    "\n",
    "    # 获取图层\n",
    "    layer = vector_ds.GetLayer()\n",
    "\n",
    "    # 定义简化容差（以地图单位为单位）\n",
    "\n",
    "    # 遍历图层中的每个特征并简化几何形状\n",
    "    for feature in layer:\n",
    "        if feature.GetField('DN') == 0:\n",
    "            layer.DeleteFeature(feature.GetFID())\n",
    "            continue\n",
    "        geom = feature.GetGeometryRef()\n",
    "        if(geom==None or not geom.IsValid()):\n",
    "            layer.DeleteFeature(feature.GetFID())\n",
    "            continue\n",
    "\n",
    "        simplified_geom = geom.Simplify(tolerance) # 简化几何形状\n",
    "        if simplified_geom==None or not simplified_geom.IsValid(): # 如果简化后的几何形状无效，则删除该特征\n",
    "            layer.DeleteFeature(feature.GetFID()) # 删除无效的要素\n",
    "        else: # 如果简化后的几何形状有效，则更新该特征\n",
    "            feature.SetGeometry(simplified_geom)\n",
    "            layer.SetFeature(feature)\n",
    "\n",
    "    # 保存并关闭数据源\n",
    "    vector_ds = None"
   ]
  },
  {
   "cell_type": "markdown",
   "metadata": {},
   "source": [
    "从栅格变成矢量"
   ]
  },
  {
   "cell_type": "code",
   "execution_count": null,
   "metadata": {},
   "outputs": [],
   "source": [
    "def VectorizeRaster(input_raster, output_vector,tolerance = 1.5e-05):\n",
    "    ds = gdal.Open(input_raster)\n",
    "    #lat = ds.GetGeoTransform()[0]\n",
    "\n",
    "    vector_datasource = ogr.GetDriverByName('ESRI Shapefile').CreateDataSource(output_vector)\n",
    "\n",
    "    srs = osr.SpatialReference()\n",
    "    srs.ImportFromWkt(ds.GetProjection())\n",
    "\n",
    "    layer = vector_datasource.CreateLayer('polygons', srs=srs, geom_type=ogr.wkbPolygon) # 创建一个图层，且使用原图层的投影坐标系\n",
    "    # \n",
    "    layer.CreateField(ogr.FieldDefn('DN', ogr.OFTInteger))\n",
    "    # 使用 OGR 的 Python 绑定进行矢量化\n",
    "    gdal.Polygonize(ds.GetRasterBand(1), ds.GetRasterBand(1).GetMaskBand(), layer, 0, callback=None)\n",
    "    # 清理\n",
    "    ds = None\n",
    "    vector_datasource = None\n",
    "    # 清理后才完成存储\n",
    "    SimplfyVector(output_vector,tolerance)\n",
    "    #return lat\n"
   ]
  },
  {
   "cell_type": "markdown",
   "metadata": {},
   "source": [
    "## （1）道路"
   ]
  },
  {
   "cell_type": "code",
   "execution_count": null,
   "metadata": {},
   "outputs": [],
   "source": [
    "t = 'road'\n",
    "output_dir= 'E:\\\\greenland_Campus\\\\GisDataforChina\\\\{}\\\\'.format(t)"
   ]
  },
  {
   "cell_type": "code",
   "execution_count": null,
   "metadata": {},
   "outputs": [],
   "source": [
    "# 原始版本 \n",
    "t = 'road'\n",
    "for i in range(0,1263):\n",
    "    input_dir = 'H:\\\\layers\\\\{}_compressed\\\\'.format(t)\n",
    "    output_dir= 'E:\\\\greenland_Campus\\\\GisDataforChina\\\\{}\\\\'.format(t)\n",
    "\n",
    "    input_raster = input_dir+'campus_{}.tif'.format(i)\n",
    "    output_raster= input_dir+'ReClass_{}_{}.tif'.format(t,i)\n",
    "    output_vector = output_dir+'{}_{}.shp'.format(t,i)\n",
    "    projection_vector = output_dir+'Proj_{}_{}.shp'.format(t,i) # 投影文件位置\n",
    "\n",
    "    try:\n",
    "        # 道路栅格重分类\n",
    "        ReClassifyRaster(input_raster, output_raster)\n",
    "\n",
    "        # 道路矢量化为polygon，并简化\n",
    "        lat=VectorizeRaster(output_raster,output_vector,tolerance = 2e-05)\n",
    "\n",
    "        # 道路文件投影、删除面积过小的\n",
    "        zone_number = int((lat+ 180) / 6) + 1 # UTM区带号 = (中央经线 / 6) + 1\n",
    "        ProjectionVector(output_vector,projection_vector,zone_number= zone_number)\n",
    "\n",
    "        # 道路中心线\n",
    "        CenterLine(projection_vector, output_dir+'CenterLine_{}_{}.shp'.format(t,i),0)\n",
    "    except Exception:\n",
    "        traceback.print_exc()\n",
    "        print('error {}'.format(i))\n",
    "        continue\n",
    "    if(i%100==0):\n",
    "        print('finish {}'.format(i))"
   ]
  },
  {
   "cell_type": "markdown",
   "metadata": {},
   "source": [
    "### 道路：从栅格转矢量"
   ]
  },
  {
   "cell_type": "markdown",
   "metadata": {},
   "source": [
    "道路栅格重分类（注意压缩）"
   ]
  },
  {
   "cell_type": "code",
   "execution_count": null,
   "metadata": {},
   "outputs": [],
   "source": [
    "def ReClassifyRaster(input_file, output_file):\n",
    "    # 打开栅格文件\n",
    "    dataset = gdal.Open(input_file, gdal.GA_ReadOnly)\n",
    "    band = dataset.GetRasterBand(3)\n",
    "    raster_array = band.ReadAsArray()\n",
    "\n",
    "    # 定义重分类规则\n",
    "    thresholds = {\n",
    "        0: [0,50],   # 将原始值3重分类为300\n",
    "        1: [254,255],  # 将原始值1重分类为100\n",
    "        2: [250,253],  # 将原始值2重分类为200\n",
    "        3: [170,249],   # 将原始值3重分类为300\n",
    "        4: [124,169],   # 将原始值3重分类为300\n",
    "        6: [50,123]   # 将原始值3重分类为300\n",
    "    }\n",
    "\n",
    "    # 应用重分类规则\n",
    "    reclassified_array = np.array(raster_array, copy=True)\n",
    "\n",
    "    for category, threshold in thresholds.items():\n",
    "        mask = np.logical_and(raster_array >= threshold[0], raster_array <= threshold[1])\n",
    "        reclassified_array[mask] = category\n",
    "\n",
    "    # 创建输出栅格文件\n",
    "    temp_file = 'temp_reclassified_campus43.tif'.replace('.','_temp.')\n",
    "\n",
    "    driver = gdal.GetDriverByName('GTiff')\n",
    "    output_dataset = driver.Create(temp_file, dataset.RasterXSize, dataset.RasterYSize, 1, gdal.GDT_Int16)\n",
    "\n",
    "    output_dataset.SetGeoTransform(dataset.GetGeoTransform())\n",
    "    output_dataset.SetProjection(dataset.GetProjection())\n",
    "\n",
    "    output_band = output_dataset.GetRasterBand(1)\n",
    "    output_band.WriteArray(reclassified_array)\n",
    "    output_band.FlushCache()\n",
    "\n",
    "    # 关闭数据集\n",
    "    band = None\n",
    "    dataset = None\n",
    "    output_band = None\n",
    "    output_dataset = None\n",
    "\n",
    "    compress_raster(temp_file, output_file) # 压缩文件大小\n",
    "    os.remove(temp_file)"
   ]
  },
  {
   "cell_type": "code",
   "execution_count": null,
   "metadata": {},
   "outputs": [],
   "source": [
    "def Raster2Vector(i):\n",
    "    input_dir = 'H:\\\\layers\\\\{}_compressed\\\\'.format(t)\n",
    "    input_raster = input_dir+'campus_{}.tif'.format(i)\n",
    "    output_raster= input_dir+'ReClass_{}_{}.tif'.format(t,i)\n",
    "    output_vector = output_dir+'{}_{}.shp'.format(t,i)\n",
    "\n",
    "    try:\n",
    "        # 道路栅格重分类\n",
    "        ReClassifyRaster(input_raster, output_raster)\n",
    "\n",
    "        # 道路矢量化为polygon，并简化，存储为 road_n\n",
    "        lat=VectorizeRaster(output_raster,output_vector,tolerance = 2e-05)\n",
    "\n",
    "    except Exception:\n",
    "        traceback.print_exc()\n",
    "        print('error {}'.format(i))\n",
    "        return False\n",
    "    if(i%100==0):\n",
    "        print('finish {}'.format(i))"
   ]
  },
  {
   "cell_type": "markdown",
   "metadata": {},
   "source": [
    "shp转gpkg"
   ]
  },
  {
   "cell_type": "code",
   "execution_count": null,
   "metadata": {},
   "outputs": [],
   "source": [
    "# 获取文件夹中所有的.shp文件\n",
    "shp_files = glob.glob(os.path.join(output_dir, '*.shp'))\n",
    "\n",
    "with ThreadPoolExecutor(max_workers=10) as executor:\n",
    "    # 提交所有任务\n",
    "    futures = [executor.submit(ConvertToGeoPackage, shp_file, output_dir) for shp_file in shp_files]\n",
    "\n",
    "    # 可选：等待所有任务完成\n",
    "    for future in futures:\n",
    "        future.result()  # 这将引发任何在任务中发生的异常"
   ]
  },
  {
   "cell_type": "markdown",
   "metadata": {},
   "source": [
    "###  提取道路中心线（先投影，增加长度字段）"
   ]
  },
  {
   "cell_type": "code",
   "execution_count": null,
   "metadata": {},
   "outputs": [],
   "source": [
    "def CenterLine(input_shp, output_shp,min_length=20,buffer=4):\n",
    "    gdf = gpd.read_file(input_shp) \n",
    "    # 缓冲区合并\n",
    "    gdf['geometry'] = gdf['geometry'].buffer(buffer) # 原始\n",
    "\n",
    "    # 合并图形\n",
    "    merged_gdf = gdf.dissolve(aggfunc='first') \n",
    "    # 生成中心线\n",
    "    merged_gdf.geometry = pygeoops.centerline(merged_gdf.geometry, simplifytolerance=-0.4)\n",
    "    merged_gdf=merged_gdf.explode()\n",
    "\n",
    "    merged_gdf.reset_index(inplace=True,drop=True)\n",
    "    merged_gdf.drop(columns=['DN'], inplace=True)\n",
    "    merged_gdf['index'] = merged_gdf.index\n",
    "\n",
    "    merged_gdf['length'] = merged_gdf['geometry'].length\n",
    "\n",
    "    filtered_gdf = merged_gdf[merged_gdf['length'] > min_length]\n",
    "\n",
    "    gdf.to_file(input_shp)\n",
    "    filtered_gdf.to_file(output_shp)"
   ]
  },
  {
   "cell_type": "markdown",
   "metadata": {},
   "source": [
    "运行"
   ]
  },
  {
   "cell_type": "code",
   "execution_count": null,
   "metadata": {},
   "outputs": [],
   "source": [
    "def Polygon2Line(i):\n",
    "    output_vector = output_dir+'{}_{}.gpkg'.format(t,i)\n",
    "    projection_vector = output_dir+'Proj_{}_{}.gpkg'.format(t,i) # 投影文件位置\n",
    "\n",
    "    polygon_gdf = gpd.read_file(output_vector)\n",
    "\n",
    "    try:\n",
    "        # 道路文件投影\n",
    "        zone_number = int((lat+ 180) / 6) + 1 # UTM区带号 = (中央经线 / 6) + 1\n",
    "        proj_gdf = polygon_gdf.to_crs(\"EPSG:{}\".format(32600+zone_number))\n",
    "        # 删除面积过小的\n",
    "        proj_gdf['area'] = proj_gdf.area\n",
    "        proj_gdf.filter(proj_gdf['DN']!=0 & proj_gdf['area']>5,inplace=True)\n",
    "        proj_gdf.to_file(projection_vector)\n",
    "\n",
    "        # 道路中心线\n",
    "        CenterLine(proj_gdf, output_dir+'CenterLine_{}_{}.gpkg'.format(t,i),0)\n",
    "\n",
    "    except Exception:\n",
    "        traceback.print_exc()\n",
    "        print('error {}'.format(i))\n",
    "        return False\n",
    "    if(i%100==0):\n",
    "        print('finish {}'.format(i))\n",
    "        \n",
    "# 批量运行      \n",
    "with ThreadPoolExecutor(max_workers=10) as executor:\n",
    "    # 提交所有任务\n",
    "    futures = [executor.submit(Polygon2Line, i) for i in range(length)]\n",
    "\n",
    "    # 可选：等待所有任务完成\n",
    "    for future in futures:\n",
    "        future.result()  # 这将引发任何在任务中发生的异常"
   ]
  },
  {
   "cell_type": "markdown",
   "metadata": {},
   "source": [
    "#### 处理提取中心线时的异常道路"
   ]
  },
  {
   "cell_type": "code",
   "execution_count": null,
   "metadata": {},
   "outputs": [],
   "source": [
    "i=60  # 60 117，407，595\n",
    "t = 'road'\n",
    "output_dir= 'E:\\\\greenland_Campus\\\\GisDataforChina\\\\{}_gpkg\\\\'.format(t)\n",
    "input_shp = output_dir+'Proj_{}_{}.gpkg'.format(t,i) # 投影文件位置\n",
    "output_shp = output_dir+'CenterLine_{}_{}.gpkg'.format(t,i)\n",
    "\n",
    "buffer=0\n",
    "gdf = gpd.read_file(input_shp) "
   ]
  },
  {
   "cell_type": "code",
   "execution_count": null,
   "metadata": {},
   "outputs": [],
   "source": [
    "gdf.loc[gdf['DN'] == 3, 'DN'] = 4\n",
    "gdf.loc[gdf['DN'] == 6, 'DN'] = 4\n",
    "# gdf.loc[gdf['DN'] == 2, 'DN'] = 4\n",
    "gdf.loc[gdf['DN'] == 2, 'DN'] = 1"
   ]
  },
  {
   "cell_type": "code",
   "execution_count": null,
   "metadata": {},
   "outputs": [],
   "source": [
    "gdf"
   ]
  },
  {
   "cell_type": "code",
   "execution_count": null,
   "metadata": {},
   "outputs": [],
   "source": [
    "# 合并图形\n",
    "merged_gdf = gdf.dissolve(by='DN',aggfunc='first') \n",
    "merged_gdf"
   ]
  },
  {
   "cell_type": "code",
   "execution_count": null,
   "metadata": {},
   "outputs": [],
   "source": [
    "# 生成中心线\n",
    "merged_gdf.geometry = pygeoops.centerline(merged_gdf.geometry, simplifytolerance=-0.4)\n",
    "merged_gdf=merged_gdf.explode()\n",
    "\n",
    "merged_gdf.reset_index(inplace=True,drop=True) \n",
    "# merged_gdf.drop(columns=['DN'], inplace=True)\n",
    "merged_gdf['index'] = merged_gdf.index\n",
    "\n",
    "merged_gdf['length'] = merged_gdf['geometry'].length\n",
    "\n",
    "#filtered_gdf = merged_gdf[merged_gdf['length'] > min_length]\n",
    "\n",
    "#gdf.to_file(input_shp)\n",
    "merged_gdf.to_file(output_shp)"
   ]
  },
  {
   "cell_type": "code",
   "execution_count": null,
   "metadata": {},
   "outputs": [],
   "source": [
    "list = [60,117,407,595]\n",
    "for i in list:\n",
    "    df = gpd.read_file(dir_road+'CenterLine_{}_{}.gpkg'.format(t,i))\n",
    "    df = df.explode()\n",
    "    df.to_file(dir_road+'CenterLine_{}_{}.gpkg'.format(t,i))"
   ]
  },
  {
   "cell_type": "markdown",
   "metadata": {},
   "source": [
    "## （2）多边形"
   ]
  },
  {
   "cell_type": "code",
   "execution_count": null,
   "metadata": {},
   "outputs": [],
   "source": [
    "# 处理多边形并批量运行\n",
    "def ProcessPolygon(types,i):\n",
    "    for t in types:\n",
    "        output_dir= 'E:\\\\greenland_Campus\\\\GisDataforChina\\\\{}\\\\'.format(t)\n",
    "        input_dir = 'H:\\\\layers\\\\{}_compressed\\\\'.format(t)\n",
    "\n",
    "        input_raster = input_dir+'campus_{}.tif'.format(i)\n",
    "        output_vector = output_dir+'{}_{}.shp'.format(t,i)\n",
    "        \n",
    "        try:\n",
    "            # 矢量化\n",
    "            # VectorizeRaster(input_raster, output_vector) # 矢量化为polygon\n",
    "            lat = VectorizeRaster(input_raster, output_vector) # 矢量化为polygon\n",
    "\n",
    "            # 投影、删除无用的要素\n",
    "            zone_number = int((lat+ 180) / 6) + 1 # UTM区带号 = (中央经线 / 6) + 1\n",
    "            gdf = gpd.read_file(output_vector)\n",
    "            gdf = gdf.to_crs(\"EPSG:{}\".format(32600+zone_number))\n",
    "            projection_vector = output_dir+'Proj_{}_{}.shp'.format(t,i) # 投影文件位置\n",
    "\n",
    "            proj_gdf = gpd.read_file(output_vector)\n",
    "            proj_gdf['area'] = proj_gdf.area\n",
    "            proj_gdf.filter(proj_gdf['DN']!=0 & proj_gdf['area']>5,inplace=True)\n",
    "            proj_gdf.to_file(projection_vector)\n",
    "\n",
    "        except Exception:\n",
    "                traceback.print_exc()\n",
    "                print('error {}_{}'.format(t,i))\n",
    "                continue\n",
    "    if(i%100==0):\n",
    "        print('finish {}'.format(i))\n",
    "\n",
    "\n",
    "types=['buildings','green','river']\n",
    "\n",
    "# 批量处理\n",
    "with ThreadPoolExecutor(max_workers=10) as executor:\n",
    "    # 提交所有任务\n",
    "    futures = [executor.submit(types, i) for i in range(length)]\n",
    "\n",
    "    # 可选：等待所有任务完成\n",
    "    for future in futures:\n",
    "        future.result()  # 这将引发任何在任务中发生的异常"
   ]
  },
  {
   "cell_type": "markdown",
   "metadata": {},
   "source": [
    "绿地文件合并green和river"
   ]
  },
  {
   "cell_type": "code",
   "execution_count": null,
   "metadata": {},
   "outputs": [],
   "source": [
    "shp_folder_path = \"E:\\\\greenland_Campus\\\\GisDataforChina\\\\green\"\n",
    "\n",
    "# 设置输出GeoPackage文件夹路径\n",
    "gpkg_folder_path =\"E:\\\\greenland_Campus\\\\GisDataforChina\\\\green_gpkg\"\n",
    "\n",
    "# 获取文件夹中所有的.shp文件\n",
    "shp_files = glob.glob(os.path.join(shp_folder_path, '*.shp'))\n",
    "\n",
    "# 定义函数将Shapefile转换为GeoPackage,并合并green和river\n",
    "def ConvertToGPKGforGreen(shp_file):\n",
    "    # 读取Shapefile\n",
    "    gdf = gpd.read_file(shp_file)\n",
    "    \n",
    "    gdf1 = gpd.read_file(shp_file.replace('green', 'river').replace('riverland', 'greenland') )# 读取river\n",
    "    gdf1['type'] = 'river'\n",
    "    gdf['type'] = 'green'\n",
    "    gdf_out = pd.concat([gdf, gdf1],ignore_index=True)\n",
    "    \n",
    "    # 构建输出的GeoPackage文件名\n",
    "    gpkg_file = os.path.join(gpkg_folder_path, os.path.basename(shp_file).replace('.shp', '.gpkg'))\n",
    "    if os.path.exists(gpkg_file):\n",
    "        return\n",
    "    \n",
    "    # 保存为GeoPackage文件\n",
    "    gdf_out.to_file(gpkg_file, driver='GPKG')\n",
    "\n",
    "# 批量处理\n",
    "with ThreadPoolExecutor(max_workers=10) as executor:\n",
    "    # 提交所有任务\n",
    "    futures = [executor.submit(ConvertToGPKGforGreen, shp_file) for shp_file in shp_files]\n",
    "\n",
    "    # 可选：等待所有任务完成\n",
    "    for future in futures:\n",
    "        future.result()  # 这将引发任何在任务中发生的异常"
   ]
  }
 ],
 "metadata": {
  "kernelspec": {
   "display_name": "base",
   "language": "python",
   "name": "python3"
  },
  "language_info": {
   "codemirror_mode": {
    "name": "ipython",
    "version": 3
   },
   "file_extension": ".py",
   "mimetype": "text/x-python",
   "name": "python",
   "nbconvert_exporter": "python",
   "pygments_lexer": "ipython3",
   "version": "3.9.18"
  }
 },
 "nbformat": 4,
 "nbformat_minor": 2
}
