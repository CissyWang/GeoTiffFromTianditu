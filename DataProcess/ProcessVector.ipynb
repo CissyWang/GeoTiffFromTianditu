{
 "cells": [
  {
   "cell_type": "code",
   "execution_count": 2,
   "metadata": {},
   "outputs": [],
   "source": [
    "import geopandas as gpd\n",
    "import numpy as np\n",
    "\n",
    "# ThreadPoolExecutor：用于I/O密集型任务，使用线程来实现并发。\n",
    "# ProcessPoolExecutor：用于计算密集型任务，使用进程来实现并发，可以绕过GIL的限制，利用多核处理器。\n",
    "from concurrent.futures import ThreadPoolExecutor, as_completed,ProcessPoolExecutor"
   ]
  },
  {
   "cell_type": "code",
   "execution_count": 15,
   "metadata": {},
   "outputs": [],
   "source": [
    "from shapely.geometry import Point"
   ]
  },
  {
   "cell_type": "code",
   "execution_count": 3,
   "metadata": {},
   "outputs": [],
   "source": [
    "import math"
   ]
  },
  {
   "cell_type": "code",
   "execution_count": 4,
   "metadata": {},
   "outputs": [],
   "source": [
    "albers_proj = '+proj=aea +lat_1=18 +lat_2=50 +lat_0=0 +lon_0=105 +x_0=0 +y_0=0 +datum=WGS84 +units=m +no_defs'\n",
    "length = 1263\n",
    "dir = \"E:\\\\greenland_Campus\\\\GisDataforChina\\\\\""
   ]
  },
  {
   "cell_type": "markdown",
   "metadata": {},
   "source": [
    "utils 读取到内存"
   ]
  },
  {
   "cell_type": "code",
   "execution_count": 5,
   "metadata": {},
   "outputs": [],
   "source": [
    "def BatchRead_gpkg(gpkg_files):\n",
    "    # 创建一个线程池\n",
    "    length = len(gpkg_files) \n",
    "    with ThreadPoolExecutor(max_workers=10) as executor:\n",
    "        future_to_index = {executor.submit(read_gpkg, i,gpkg_files): i for i in range(length)}\n",
    "\n",
    "        # 创建一个列表来按顺序存储结果\n",
    "        gdfs = [None] * length\n",
    "\n",
    "        # 等待所有任务完成，并按文件编号顺序存储结果\n",
    "        for future in as_completed(future_to_index):\n",
    "            index = future_to_index[future]\n",
    "            result = future.result()\n",
    "            if result is not None:\n",
    "                gdfs[index] = result\n",
    "    return gdfs\n",
    "\n",
    "def read_gpkg(i,gpkg_files):\n",
    "    try:\n",
    "        gdf = gpd.read_file(gpkg_files[i])\n",
    "        gdf=gdf.dropna(subset=['geometry'])\n",
    "        return gdf\n",
    "    except Exception as e:\n",
    "        print(f\"Error reading {gpkg_files[i]}: {e}\")\n",
    "    return None"
   ]
  },
  {
   "cell_type": "code",
   "execution_count": null,
   "metadata": {},
   "outputs": [],
   "source": [
    "# 先运行以上所有"
   ]
  },
  {
   "cell_type": "markdown",
   "metadata": {},
   "source": [
    "## 1.aoi属性： 面积area、角度orient、长宽比aspect_ratio"
   ]
  },
  {
   "cell_type": "code",
   "execution_count": null,
   "metadata": {},
   "outputs": [],
   "source": [
    "aoi_gdf = gpd.read_file('E:\\\\greenland_Campus\\\\GisDataforChina\\\\AOI_gpkg\\\\aoi_geo.gpkg') # 这是地理坐标系中的aoi"
   ]
  },
  {
   "cell_type": "code",
   "execution_count": null,
   "metadata": {},
   "outputs": [],
   "source": [
    "aoi_oob = gpd.read_file('E:\\\\greenland_Campus\\\\GisDataforChina\\\\AOI_gpkg\\\\aoi_geo_oob_width.gpkg') # 这是地理坐标系中的oob"
   ]
  },
  {
   "cell_type": "markdown",
   "metadata": {},
   "source": [
    "计算Albers面积"
   ]
  },
  {
   "cell_type": "code",
   "execution_count": null,
   "metadata": {},
   "outputs": [],
   "source": [
    "# 定义亚洲阿尔伯斯投影的参数\n",
    "# 例如，中央经线为105度，标准纬线为18度和50度\n",
    "albers_proj = '+proj=aea +lat_1=18 +lat_2=50 +lat_0=0 +lon_0=105 +x_0=0 +y_0=0 +datum=WGS84 +units=m +no_defs'\n",
    "\n",
    "# 将数据投影到亚洲阿尔伯斯投影\n",
    "gdf_albers = aoi_gdf.to_crs(albers_proj)\n",
    "gdf_albers.area\n",
    "aoi_gdf['面积Albers']=gdf_albers.area"
   ]
  },
  {
   "cell_type": "markdown",
   "metadata": {},
   "source": [
    "### 拆分为单个要素，计算面积和形状指数"
   ]
  },
  {
   "cell_type": "code",
   "execution_count": null,
   "metadata": {},
   "outputs": [],
   "source": [
    "# 仅拆分（仍然是地理坐标系）\n",
    "for i in range(0,1263):\n",
    "    range_gdf = gpd.GeoDataFrame([aoi_gdf.iloc[i]],  columns=aoi_gdf.columns,crs=aoi_gdf.crs)\n",
    "    range_gdf.to_file('E:\\\\greenland_Campus\\\\GisDataforChina\\\\AOI_gpkg\\\\campus_aoi_{}.gpkg'.format(i))"
   ]
  },
  {
   "cell_type": "code",
   "execution_count": null,
   "metadata": {},
   "outputs": [],
   "source": [
    "# 这里因为修改了aoi文件中 campus7 的位置，重新导出\n",
    "i=7\n",
    "aoi_gdf = gpd.read_file('E:\\\\greenland_Campus\\\\GisDataforChina\\\\AOI_gpkg\\\\aoi_geoT2.gpkg')\n",
    "range_gdf = gpd.GeoDataFrame([aoi_gdf.iloc[i]],  columns=aoi_gdf.columns,crs=aoi_gdf.crs)\n",
    "range_gdf.to_file('E:\\\\greenland_Campus\\\\GisDataforChina\\\\AOI_gpkg\\\\campus_aoi_{}.gpkg'.format(i))"
   ]
  },
  {
   "cell_type": "code",
   "execution_count": 5,
   "metadata": {},
   "outputs": [],
   "source": [
    "# 拆分 + 分别投影到对应的带号\n",
    "range_files = [dir+'AOI_gpkg\\\\campus_aoi_{}.gpkg'.format(i)for i in range(0,length)]\n",
    "range_gdfs =  BatchRead_gpkg(range_files)\n",
    "\n",
    "def ProjectionNew(i):\n",
    "    # 从aoi中读取经度\n",
    "    lng = range_gdfs[i].loc[0,'lngC'] \n",
    "    zone_number = int((lng+ 180) / 6) + 1\n",
    "    crs = 'EPSG:326{}'.format(zone_number) \n",
    "\n",
    "    # 将aoi的经纬度坐标转换为投影坐标\n",
    "    range_gdfs[i]=range_gdfs[i].to_crs(crs)\n",
    "    range_gdfs[i]['areaUTM']= range_gdfs[i].area # 计算面积         \n",
    "    range_gdfs[i].to_file(dir+'AOI_gpkg\\\\Proj_aoi_{}.gpkg'.format(i), driver='GPKG')\n",
    "\n",
    "with ThreadPoolExecutor(max_workers=10) as executor:\n",
    "    # 提交所有任务\n",
    "    futures = [executor.submit(ProjectionNew, i) for i in range(length)]\n",
    "\n",
    "    # 可选：等待所有任务完成\n",
    "    for future in futures:\n",
    "        future.result()  # 这将引发任何在任务中发生的异常"
   ]
  },
  {
   "cell_type": "code",
   "execution_count": 49,
   "metadata": {},
   "outputs": [],
   "source": [
    "# 如果需要导入\n",
    "aoi_gdf = gpd.read_file('E:\\\\greenland_Campus\\\\GisDataforChina\\\\AOI_gpkg\\\\aoi_contextIndex.gpkg') \n",
    "range_files = [dir+'AOI_gpkg\\\\Proj_aoi_{}.gpkg'.format(i)for i in range(0,length)]\n",
    "range_gdfs =  BatchRead_gpkg(range_files)"
   ]
  },
  {
   "cell_type": "code",
   "execution_count": null,
   "metadata": {},
   "outputs": [],
   "source": [
    "# 更新列表和单个文件的面积值。areaN是albers投影， areaUTM是UTM投影\n",
    "for i in range(0,1263):\n",
    "    aoi_gdf.loc[i,'areaUTM'] = range_gdfs[i]['areaUTM'][0]"
   ]
  },
  {
   "cell_type": "code",
   "execution_count": 51,
   "metadata": {},
   "outputs": [],
   "source": [
    "# 形状指数：采用与正方形的参照 S = P / (4 * sqrt(A))，其中 P 是周长，A 是面积\n",
    "for i in range(0,1263):\n",
    "    length_geom = range_gdfs[i].length.sum()\n",
    "    aoi_gdf.at[i,'length']=length_geom\n",
    "    aoi_gdf.loc[i,'shapeIndex'] = length_geom/math.sqrt(range_gdfs[i].area)/4\n",
    "    "
   ]
  },
  {
   "cell_type": "code",
   "execution_count": 59,
   "metadata": {},
   "outputs": [],
   "source": [
    "aoi_gdf.to_file('E:\\\\greenland_Campus\\\\GisDataforChina\\\\AOI_gpkg\\\\aoi_contextIndex.gpkg')"
   ]
  },
  {
   "cell_type": "markdown",
   "metadata": {},
   "source": [
    "### 计算obb的长宽比"
   ]
  },
  {
   "cell_type": "code",
   "execution_count": null,
   "metadata": {},
   "outputs": [],
   "source": [
    "def calculate_length(polygon):\n",
    "    # 获取多边形边界上的所有点\n",
    "    coords = list(polygon.exterior.coords)\n",
    "    #print(len(coords))\n",
    "    # 初始化最大宽度为0\n",
    "    max_length = 0\n",
    "    # 计算所有点对之间的距离\n",
    "    for i in range(len(coords)-1):\n",
    "        # 计算两点之间的距离\n",
    "        point1 = Point(coords[i])\n",
    "        point2 = Point(coords[i+1])\n",
    "        # 计算两点之间的距离\n",
    "        distance = point1.distance(point2)\n",
    "        #print(distance)\n",
    "        # 更新最大宽度\n",
    "        max_length = max(max_length, distance)\n",
    "    return max_length"
   ]
  },
  {
   "cell_type": "code",
   "execution_count": null,
   "metadata": {},
   "outputs": [],
   "source": [
    "def GetObb(i,range_gdfs):\n",
    "    gdf = range_gdfs[i]\n",
    "    obb_gdf = gpd.GeoDataFrame(geometry=[None]*len(gdf),crs=gdf.crs)\n",
    "    \n",
    "    # 遍历GeoDataFrame中的每个多边形\n",
    "\n",
    "    polygon = gdf.geometry[0]\n",
    "\n",
    "    # 计算每个多边形的最小面积包围矩形\n",
    "    obb = polygon.minimum_rotated_rectangle\n",
    "\n",
    "    # 将OBB添加到新的GeoDataFrame中\n",
    "    obb_gdf.at[0, 'geometry'] = obb\n",
    "    obb_gdf['campusName']=gdf['campusName']\n",
    "    \n",
    "    length_total = obb_gdf.length\n",
    "    length = calculate_length(obb)\n",
    "    width = length_total/2-length\n",
    "    obb_gdf['length'] = length\n",
    "    obb_gdf['width'] = width\n",
    "    obb_gdf['ratio'] = length/width\n",
    "    obb_gdf.to_file(dir+f'AOI_gpkg\\\\Proj_aoi_oob_{i}.gpkg')\n",
    "    return obb_gdf\n",
    "   "
   ]
  },
  {
   "cell_type": "code",
   "execution_count": null,
   "metadata": {},
   "outputs": [],
   "source": [
    "obb_gdfs = [GetObb(i,range_gdfs) for i in range(0,length)]"
   ]
  },
  {
   "cell_type": "code",
   "execution_count": null,
   "metadata": {},
   "outputs": [],
   "source": [
    "# 计算长宽比\n",
    "aoi_context = gpd.read_file('E:\\\\greenland_Campus\\\\GisDataforChina\\\\AOI_gpkg\\\\aoi_contextIndex.gpkg')\n",
    "aoi_context['aspect_ratio'] = [obb_gdfs[i]['ratio'][0]for i in range(0,length)]\n",
    "\n",
    "aoi_context.to_file('E:\\\\greenland_Campus\\\\GisDataforChina\\\\AOI_gpkg\\\\aoi_contextIndex.gpkg')"
   ]
  },
  {
   "cell_type": "markdown",
   "metadata": {},
   "source": [
    "### 计算方向"
   ]
  },
  {
   "cell_type": "code",
   "execution_count": null,
   "metadata": {},
   "outputs": [],
   "source": [
    "# 计算方向\n",
    "def GetOrient(geom):\n",
    "    detaX = geom.exterior.coords[0][0] - geom.exterior.coords[1][0]\n",
    "    detaY = geom.exterior.coords[0][1] - geom.exterior.coords[1][1]\n",
    "    if detaY < 0:\n",
    "        detaX = -detaX\n",
    "        detaY = -detaY\n",
    "    \n",
    "    angle = math.atan2(detaY,detaX)\n",
    "    angle_degrees = math.degrees(angle)\n",
    "    orient = abs(math.sin(2*angle))\n",
    "    return orient,angle_degrees\n",
    "\n",
    "with ThreadPoolExecutor(max_workers=10) as executor:\n",
    "    # 提交任务到线程池\n",
    "    futures = [executor.submit(GetOrient, geom=obb_gdfs[i]['geometry'][0]) for i in range(length)]\n",
    "\n",
    "    # 等待所有任务完成，并按文件编号顺序存储结果\n",
    "    for i, future in enumerate(futures):\n",
    "        orient, degree = future.result()\n",
    "        aoi_context.loc[i, 'orient'] = orient\n",
    "        aoi_context.loc[i, 'degree'] = degree\n",
    "        #if i % 10 == 0:\n",
    "            #print(i, \"finished\")"
   ]
  },
  {
   "cell_type": "code",
   "execution_count": null,
   "metadata": {},
   "outputs": [],
   "source": [
    "aoi_context.to_file(dir +'AOI_gpkg\\\\aoi_contextIndex.gpkg')"
   ]
  },
  {
   "cell_type": "markdown",
   "metadata": {},
   "source": [
    "### 渔网分析\n"
   ]
  },
  {
   "cell_type": "markdown",
   "metadata": {},
   "source": [
    "oob是地理坐标系，投影之后在找oob"
   ]
  },
  {
   "cell_type": "code",
   "execution_count": 33,
   "metadata": {},
   "outputs": [],
   "source": [
    "from shapely.geometry import box\n",
    "import pandas as pd\n",
    "from shapely.affinity import rotate"
   ]
  },
  {
   "cell_type": "code",
   "execution_count": 27,
   "metadata": {},
   "outputs": [],
   "source": [
    "obb_files = [dir+f'AOI_gpkg\\\\Proj_aoi_oob_{i}.gpkg' for i in range(0,length)]\n",
    "obb_gdfs  = BatchRead_gpkg(obb_files)\n"
   ]
  },
  {
   "cell_type": "code",
   "execution_count": 35,
   "metadata": {},
   "outputs": [],
   "source": [
    "aoi_context = gpd.read_file('E:\\\\greenland_Campus\\\\GisDataforChina\\\\AOI_gpkg\\\\aoi_contextIndex.gpkg')"
   ]
  },
  {
   "cell_type": "markdown",
   "metadata": {},
   "source": [
    "#### 对obb划分网格"
   ]
  },
  {
   "cell_type": "code",
   "execution_count": 18,
   "metadata": {},
   "outputs": [],
   "source": [
    "def GetAngle(angle_degrees):\n",
    "    if(45<angle_degrees<=90):\n",
    "        angle = angle_degrees-90\n",
    "    elif(90<angle_degrees<=135):\n",
    "        angle = angle_degrees-90\n",
    "    elif(0<angle_degrees<=45):\n",
    "        angle = angle_degrees\n",
    "    elif(135<angle_degrees<=180):\n",
    "        angle = angle_degrees-180\n",
    "    return angle"
   ]
  },
  {
   "cell_type": "code",
   "execution_count": 46,
   "metadata": {},
   "outputs": [],
   "source": [
    "def WidthHeight(obb_gdf,unit):\n",
    "    geom = obb_gdf.geometry[0]\n",
    "    minx, miny, maxx, maxy = geom.bounds\n",
    "    width = maxx - minx\n",
    "    height = maxy - miny\n",
    "\n",
    "    nx = round(obb_gdf['width'][0]/unit+0.5)\n",
    "    ny = round(obb_gdf['length'][0]/unit+0.5)\n",
    "\n",
    "    cell_width = obb_gdf['width'][0]/nx\n",
    "    cell_height = obb_gdf['length'][0]/ny\n",
    "    \n",
    "    if width < height:\n",
    "        return nx,ny,cell_width,cell_height\n",
    "    \n",
    "    if width > height:\n",
    "        return ny,nx,cell_height,cell_width"
   ]
  },
  {
   "cell_type": "code",
   "execution_count": 47,
   "metadata": {},
   "outputs": [],
   "source": [
    "def CreateGrid(index,unit):\n",
    "    obb_gdf = obb_gdfs[index]\n",
    "    geom = obb_gdf.geometry[0]\n",
    "\n",
    "    # 基准点\n",
    "    origin = geom.centroid\n",
    "    \n",
    "    # 判断哪个是x朝向，哪个是y朝向\n",
    "    nx,ny,cell_width,cell_height = WidthHeight(obb_gdf,unit)\n",
    "    # 创建网格\n",
    "    grid = []\n",
    "    for i in range(nx):\n",
    "        for j in range(ny):\n",
    "            x = origin.x + (i -nx/2)* cell_width\n",
    "            y = origin.y + (j- ny/2) * cell_height\n",
    "            poly = box(x, y, x + cell_width, y + cell_height)\n",
    "            grid.append(poly)\n",
    "            \n",
    "    # 旋转角度\n",
    "    angle_degrees=aoi_context['degree'][index] #aoi_context\n",
    "    \n",
    "    angle = GetAngle(angle_degrees)\n",
    "    #print (angle_degrees,angle)\n",
    "    \n",
    "    # 旋转网格的多边形\n",
    "    rotated_grid = []\n",
    "    for poly in grid:\n",
    "        rotated_poly = rotate(poly, angle, origin=origin,use_radians=False)\n",
    "        rotated_grid.append(rotated_poly)\n",
    "\n",
    "    # 将旋转后的多边形转换为GeoDataFrame\n",
    "    geoseries = gpd.GeoSeries(rotated_grid)\n",
    "    rotated_grid_gdf = gpd.GeoDataFrame(geometry=geoseries,crs=obb_gdf.crs)\n",
    "    \n",
    "    return rotated_grid_gdf"
   ]
  },
  {
   "cell_type": "code",
   "execution_count": 44,
   "metadata": {},
   "outputs": [],
   "source": [
    "grid_gdfs=[None]*1623\n",
    "unit=200 # 200*200网格"
   ]
  },
  {
   "cell_type": "code",
   "execution_count": 51,
   "metadata": {},
   "outputs": [],
   "source": [
    "grid_gdfs=[None]*1263\n",
    "unit=200 # 200*200网格\n",
    "with ThreadPoolExecutor(max_workers=10) as executor:\n",
    "    futures = [executor.submit(CreateGrid, i, unit) for i in range(1263)]\n",
    "    for i, future in enumerate(futures):\n",
    "        grid_gdfs[i] = future.result()"
   ]
  },
  {
   "cell_type": "markdown",
   "metadata": {},
   "source": [
    "#### 裁剪合并处理，获得最终渔网"
   ]
  },
  {
   "cell_type": "code",
   "execution_count": 50,
   "metadata": {},
   "outputs": [],
   "source": [
    "# 合并较小的部分\n",
    "def UnionMinArea(cliped,CanMultiPoly=False):\n",
    "    indexes_to_drop = []\n",
    "\n",
    "    for index in range(len(cliped)):\n",
    "        if cliped.loc[index, 'area'] < cliped['area'].max() / 3:\n",
    "            if index + 1 < len(cliped):  # 确保不会越界\n",
    "                try:\n",
    "                    result =  cliped.loc[index,'geometry'].union(cliped.loc[index + 1, 'geometry'])\n",
    "                    if CanMultiPoly==False and result.geom_type!='Polygon':\n",
    "                        continue\n",
    "                    if result is not None and result.is_valid:\n",
    "                            cliped.loc[index + 1, 'geometry'] = result\n",
    "                            cliped.loc[index + 1, 'area'] = cliped.loc[index + 1, 'geometry'].area\n",
    "                            # print(index, cliped.loc[index+1, 'area'])\n",
    "                            indexes_to_drop.append(index)\n",
    "                except Exception as e:\n",
    "                    print(f\"An error occurred during union operation for index {index}: {e}\")\n",
    "                \n",
    "    # 在循环结束后一次性删除所有需要删除的行\n",
    "    cliped.drop(indexes_to_drop, inplace=True)"
   ]
  },
  {
   "cell_type": "code",
   "execution_count": 45,
   "metadata": {},
   "outputs": [],
   "source": [
    "range_files = [dir+'AOI_gpkg\\\\Proj_aoi_{}.gpkg'.format(i)for i in range(0,length)]\n",
    "range_gdfs =  BatchRead_gpkg(range_files)"
   ]
  },
  {
   "cell_type": "code",
   "execution_count": 55,
   "metadata": {},
   "outputs": [],
   "source": [
    "# 运行裁剪+合并\n",
    "def ClipGrid(i):\n",
    "    cliped = grid_gdfs[i].overlay(range_gdfs[i], how='intersection')[grid_gdfs[i].columns]\n",
    "    cliped['area'] = cliped.area\n",
    "    UnionMinArea(cliped)\n",
    "    cliped_reversed = cliped.iloc[::-1].reset_index(drop=True)\n",
    "    UnionMinArea(cliped_reversed,True)\n",
    "    cliped_reversed.to_file(dir+'AOI_gpkg\\\\0_Grid_{}.gpkg'.format(i))\n",
    "\n",
    "with ThreadPoolExecutor(max_workers=10) as executor:\n",
    "    futures = [executor.submit(ClipGrid, i) for i in range(12,1263)]\n",
    "    for i, future in enumerate(futures):\n",
    "        grid_gdfs[i] = future.result()"
   ]
  },
  {
   "cell_type": "markdown",
   "metadata": {},
   "source": [
    "## 2. 建筑 "
   ]
  },
  {
   "cell_type": "code",
   "execution_count": 8,
   "metadata": {},
   "outputs": [],
   "source": [
    "t = 'buildings'\n",
    "buffer =1.2\n",
    "dir_buildings= 'E:\\\\greenland_Campus\\\\GisDataforChina\\\\{}_gpkg\\\\'.format(t)"
   ]
  },
  {
   "cell_type": "markdown",
   "metadata": {},
   "source": [
    "### 提取校园内建筑 + 融合面 + 面积统计"
   ]
  },
  {
   "cell_type": "code",
   "execution_count": 47,
   "metadata": {},
   "outputs": [],
   "source": [
    "from shapely import unary_union"
   ]
  },
  {
   "cell_type": "code",
   "execution_count": 43,
   "metadata": {},
   "outputs": [],
   "source": [
    "def MergeShapefile(gdf, buffer,recover = True):\n",
    "    \n",
    "    # 为每个图元创建缓冲区\n",
    "    gdf['geometry'] = gdf['geometry'].buffer(buffer,cap_style='square')\n",
    "\n",
    "    # 合并所有缓冲区\n",
    "    if 'type' in gdf.columns:\n",
    "        merged_gdf = gdf.dissolve(by='type',aggfunc='first',as_index=False)\n",
    "    else:\n",
    "        merged_geom = unary_union(gdf['geometry'])\n",
    "        # 创建一个新的GeoDataFrame来存储融合后的图元\n",
    "        merged_gdf = gpd.GeoDataFrame(index=[0], crs=gdf.crs, geometry=[merged_geom])\n",
    "    \n",
    "    merged_gdf= merged_gdf.explode()\n",
    "    merged_gdf.reset_index(drop=True, inplace=True)\n",
    "\n",
    "    if recover:\n",
    "        # 缩小融合后的图元\n",
    "        merged_gdf['geometry'] = merged_gdf['geometry'].buffer(-1*buffer,cap_style='square')\n",
    "    # 计算面积\n",
    "    merged_gdf['area'] = merged_gdf.area\n",
    "\n",
    "    return merged_gdf[merged_gdf['area']>5]\n",
    "    "
   ]
  },
  {
   "cell_type": "code",
   "execution_count": null,
   "metadata": {},
   "outputs": [],
   "source": [
    "import os\n",
    "os.environ['PYDEVD_WARN_SLOW_RESOLVE_TIMEOUT'] = '2'  # 设置为2秒"
   ]
  },
  {
   "cell_type": "code",
   "execution_count": 85,
   "metadata": {},
   "outputs": [],
   "source": [
    "def GetPolygonInside(gdf,range_gdf):\n",
    "     # 转换坐标系\n",
    "    #print(gdf.crs)\n",
    "    selected_gdf = gdf.copy()\n",
    "    selected_gdf['geometry1'] =selected_gdf['geometry']\n",
    "    selected_gdf['geometry'] = gdf.geometry.centroid # 使‘geometry’为中点\n",
    "    selected_gdf = gpd.sjoin(selected_gdf, range_gdf, how='inner', predicate='within') # 提取\n",
    "    selected_gdf['geometry']=selected_gdf['geometry1'] \n",
    "    selected_gdf.drop(columns=['geometry1'],inplace=True) #恢复‘geometry’\n",
    "    return selected_gdf"
   ]
  },
  {
   "cell_type": "code",
   "execution_count": 86,
   "metadata": {},
   "outputs": [],
   "source": [
    "building_files = [dir_buildings+'{}_{}.gpkg'.format(t,i) for i in range(0,length)]\n",
    "building_gdfs= BatchRead_gpkg(building_files) #读取建筑文件"
   ]
  },
  {
   "cell_type": "code",
   "execution_count": 87,
   "metadata": {},
   "outputs": [],
   "source": [
    "# run\n",
    "def CalFA(i):\n",
    "\n",
    "    range_gdf =range_gdfs[i] \n",
    "    print(range_gdf.crs)\n",
    "    # 提取校园内的建筑\n",
    "    gdf = building_gdfs[i].to_crs(range_gdf.crs)\n",
    "    selected_gdf = GetPolygonInside(gdf,range_gdf) \n",
    "\n",
    "    # 合并校园内邻近的矢量\n",
    "    selected_gdf = MergeShapefile(selected_gdf,buffer) \n",
    "\n",
    "    # 导出文件\n",
    "    selected_gdf.to_file(dir_buildings+'0_inside_{}_{}.gpkg'.format(t,i), driver='GPKG')\n",
    "    #print('finish',i)\n",
    "    # 统计面积\n",
    "    return selected_gdf.area.sum() \n"
   ]
  },
  {
   "cell_type": "code",
   "execution_count": null,
   "metadata": {},
   "outputs": [],
   "source": [
    "FA = {}\n",
    "with ThreadPoolExecutor(max_workers=10) as executor:\n",
    "    futures = [executor.submit(CalFA, i) for i in range(0,1263)]\n",
    "    for i, future in enumerate(futures):\n",
    "        FA[i] = future.result()"
   ]
  },
  {
   "cell_type": "code",
   "execution_count": null,
   "metadata": {},
   "outputs": [],
   "source": [
    "aoi_buildings=gpd.read_file('E:\\\\greenland_Campus\\\\GisDataforChina\\\\AOI_gpkg\\\\aoi_buildingIndex.gpkg')"
   ]
  },
  {
   "cell_type": "code",
   "execution_count": 92,
   "metadata": {},
   "outputs": [],
   "source": [
    "aoi_buildings['FA']=FA\n",
    "aoi_buildings['density_BD']=aoi_buildings['FA']/aoi_buildings['areaUTM']"
   ]
  },
  {
   "cell_type": "code",
   "execution_count": 97,
   "metadata": {},
   "outputs": [],
   "source": [
    "aoi_buildings.to_file('E:\\\\greenland_Campus\\\\GisDataforChina\\\\AOI_gpkg\\\\aoi_buildingIndex.gpkg', driver='GPKG')\n"
   ]
  },
  {
   "cell_type": "markdown",
   "metadata": {},
   "source": [
    "### 计算指标"
   ]
  },
  {
   "cell_type": "code",
   "execution_count": 9,
   "metadata": {},
   "outputs": [],
   "source": [
    "# 批量文件位置\n",
    "gpkg_files = [dir_buildings+'0_inside_{}_{}.gpkg'.format(t,i) for i in range(0,length)]\n",
    "# 读进内存\n",
    "gdfs = BatchRead_gpkg(gpkg_files)"
   ]
  },
  {
   "cell_type": "markdown",
   "metadata": {},
   "source": [
    "#### 多边形最近邻距离"
   ]
  },
  {
   "cell_type": "code",
   "execution_count": 20,
   "metadata": {},
   "outputs": [],
   "source": [
    "def NN(gdf):\n",
    "    buildings_gdf = gdf\n",
    "    if buildings_gdf.area.sum()==0:\n",
    "        return 0,0\n",
    "\n",
    "    # 初始化一个列表来存储最近邻距离\n",
    "    nearest_distances = []\n",
    "\n",
    "    # 对于每个建筑物，找出最近的邻居并计算距离\n",
    "    for index, building in buildings_gdf.iterrows():\n",
    "        # 找出除自身外最近的建筑物\n",
    "        possible_neighbors = buildings_gdf.index.difference([index])\n",
    "        distances = buildings_gdf.loc[possible_neighbors].distance(building['geometry'])\n",
    "        nearest_neighbor_distance = distances.min()\n",
    "        \n",
    "        # 将最近邻距离添加到列表中\n",
    "        nearest_distances.append(nearest_neighbor_distance)\n",
    "\n",
    "    # 计算平均最近邻距离\n",
    "    nn_avr = round(sum(nearest_distances) / len(nearest_distances),4)\n",
    "    nn_std = np.std(nearest_distances, ddof=0)\n",
    "    return nn_avr,nn_std"
   ]
  },
  {
   "cell_type": "code",
   "execution_count": null,
   "metadata": {},
   "outputs": [],
   "source": [
    "avrs = {}\n",
    "stds = {}\n",
    "with ThreadPoolExecutor(max_workers=10) as executor:\n",
    "    # 提交任务到线程池\n",
    "    futures = [executor.submit(NN, gdf) for gdf in gdfs]\n",
    "\n",
    "    # 等待所有任务完成，并按文件编号顺序存储结果\n",
    "    for i, future in enumerate(futures):\n",
    "        avr, std = future.result()\n",
    "        avrs[i] = avr\n",
    "        stds[i] = std\n",
    "\n",
    "        if i % 10 == 0:\n",
    "            print(i, \"finished\")"
   ]
  },
  {
   "cell_type": "code",
   "execution_count": 101,
   "metadata": {},
   "outputs": [],
   "source": [
    "aoi_buildings['NN_avr1'] = avrs\n",
    "aoi_buildings['NN_std1'] = stds"
   ]
  },
  {
   "cell_type": "markdown",
   "metadata": {},
   "source": [
    "#### 中心点最近邻指数"
   ]
  },
  {
   "cell_type": "code",
   "execution_count": 102,
   "metadata": {},
   "outputs": [],
   "source": [
    "def NNI(gdf,area):\n",
    "    \n",
    "    if gdf.area.sum()==0:\n",
    "        return 0\n",
    "\n",
    "    # 初始化一个列表来存储最近邻距离\n",
    "    nearest_distances = []\n",
    "\n",
    "    gdf['centroid'] = gdf.geometry.centroid\n",
    "\n",
    "    # 对于每个建筑物，找出最近的邻居并计算距离\n",
    "    for index, geom in gdf.iterrows():\n",
    "        # 找出除自身外最近的\n",
    "        possible_neighbors = gdf.index.difference([index])\n",
    "        distances = gdf.loc[possible_neighbors,'centroid'].distance(geom['centroid'])\n",
    "        nearest_neighbor_distance = distances.min()\n",
    "        \n",
    "        # 将最近邻距离添加到列表中\n",
    "        nearest_distances.append(nearest_neighbor_distance)\n",
    "\n",
    "    # 计算平均最近邻指数\n",
    "    dd = 0.5/math.sqrt(gdf.shape[0]/area)\n",
    "    nni = np.mean(nearest_distances)/dd\n",
    "\n",
    "    return nni"
   ]
  },
  {
   "cell_type": "code",
   "execution_count": null,
   "metadata": {},
   "outputs": [],
   "source": [
    "nnis= {}\n",
    "with ThreadPoolExecutor(max_workers=10) as executor:\n",
    "    # 提交任务到线程池\n",
    "    futures = [executor.submit(NNI, gdfs[i],aoi_buildings.loc[i,'areaUTM']) for i in range(length)]\n",
    "\n",
    "    # 等待所有任务完成，并按文件编号顺序存储结果\n",
    "    for i, future in enumerate(futures):\n",
    "        nnis[i]= future.result()\n",
    "        if i % 100 == 1:\n",
    "            print(i, \"finished\")\n"
   ]
  },
  {
   "cell_type": "code",
   "execution_count": 104,
   "metadata": {},
   "outputs": [],
   "source": [
    "aoi_buildings['NNI1'] = nnis"
   ]
  },
  {
   "cell_type": "code",
   "execution_count": 105,
   "metadata": {},
   "outputs": [],
   "source": [
    "aoi_buildings.to_file(dir+'AOI_gpkg\\\\aoi_buildingIndex.gpkg', driver='GPKG')"
   ]
  },
  {
   "cell_type": "markdown",
   "metadata": {},
   "source": [
    "### 分布均衡性"
   ]
  },
  {
   "cell_type": "code",
   "execution_count": 36,
   "metadata": {},
   "outputs": [],
   "source": [
    "aoi_buildings = gpd.read_file('E:\\\\greenland_Campus\\\\GisDataforChina\\\\AOI_gpkg\\\\aoi_buildingIndex.gpkg')"
   ]
  },
  {
   "cell_type": "code",
   "execution_count": 106,
   "metadata": {},
   "outputs": [],
   "source": [
    "def PolygonEveness(grid_gdf,poly_gdf,column_name):\n",
    "\n",
    "    result_gdf = grid_gdf\n",
    "    result_gdf[column_name] = 0.0  # 初始化道路长度字段\n",
    "\n",
    "    for index, net_polygon in grid_gdf.iterrows():\n",
    "        net_geometry = net_polygon['geometry']\n",
    "        \n",
    "        # 遍历道路的每个线要素\n",
    "        for index01, row in poly_gdf.iterrows():\n",
    "            geometry = row['geometry']\n",
    "            \n",
    "            # 检查是否与渔网多边形相交\n",
    "            if net_geometry.intersects(geometry):\n",
    "                # 计算交集部分\n",
    "                intersection = net_geometry.intersection(geometry)\n",
    "                \n",
    "                # 如果交集是 LineString，计算其长度并累加到结果中\n",
    "                result_gdf.at[index, column_name] += intersection.area\n",
    "\n",
    "    # 删除过小的部分\n",
    "    #result_gdf=result_gdf[result_gdf['area']>1/3*result_gdf['area'].mean()]\n",
    "    # 标准差\n",
    "    mean = result_gdf[column_name].mean()\n",
    "    std = result_gdf[column_name].std(ddof=1)\n",
    "    if mean !=0:\n",
    "        eveness = std/mean\n",
    "    else:\n",
    "        eveness = 0\n",
    "    return eveness"
   ]
  },
  {
   "cell_type": "code",
   "execution_count": 107,
   "metadata": {},
   "outputs": [
    {
     "name": "stdout",
     "output_type": "stream",
     "text": [
      "0.5845720757624524\n"
     ]
    }
   ],
   "source": [
    "print(PolygonEveness(grid_gdfs[0],gdfs[0],'building_area'))"
   ]
  },
  {
   "cell_type": "code",
   "execution_count": 8,
   "metadata": {},
   "outputs": [],
   "source": [
    "grid_files = [dir+'AOI_gpkg\\\\0_Grid_{}.gpkg'.format(i)for i in range(0,length)]\n",
    "grid_gdfs = BatchRead_gpkg(grid_files)"
   ]
  },
  {
   "cell_type": "code",
   "execution_count": 108,
   "metadata": {},
   "outputs": [],
   "source": [
    "results = {}\n",
    "for i in range(length):\n",
    "    results[i]=PolygonEveness(grid_gdfs[i],gdfs[i],'building_area')"
   ]
  },
  {
   "cell_type": "code",
   "execution_count": 109,
   "metadata": {},
   "outputs": [],
   "source": [
    "aoi_buildings['buildings_eveness'] = results\n"
   ]
  },
  {
   "cell_type": "code",
   "execution_count": 110,
   "metadata": {},
   "outputs": [
    {
     "data": {
      "text/html": [
       "<div>\n",
       "<style scoped>\n",
       "    .dataframe tbody tr th:only-of-type {\n",
       "        vertical-align: middle;\n",
       "    }\n",
       "\n",
       "    .dataframe tbody tr th {\n",
       "        vertical-align: top;\n",
       "    }\n",
       "\n",
       "    .dataframe thead th {\n",
       "        text-align: right;\n",
       "    }\n",
       "</style>\n",
       "<table border=\"1\" class=\"dataframe\">\n",
       "  <thead>\n",
       "    <tr style=\"text-align: right;\">\n",
       "      <th></th>\n",
       "      <th>density_BD</th>\n",
       "      <th>areaUTM</th>\n",
       "      <th>campusName</th>\n",
       "      <th>FA</th>\n",
       "      <th>geometry</th>\n",
       "      <th>buildings_eveness</th>\n",
       "      <th>NN_avr1</th>\n",
       "      <th>NN_std1</th>\n",
       "      <th>NNI1</th>\n",
       "    </tr>\n",
       "  </thead>\n",
       "  <tbody>\n",
       "    <tr>\n",
       "      <th>0</th>\n",
       "      <td>0.286141</td>\n",
       "      <td>3.891525e+05</td>\n",
       "      <td>海南热带海洋学院</td>\n",
       "      <td>111352.391399</td>\n",
       "      <td>POLYGON ((109.53224 18.31567, 109.53225 18.315...</td>\n",
       "      <td>0.584572</td>\n",
       "      <td>16.8589</td>\n",
       "      <td>16.900711</td>\n",
       "      <td>1.224885</td>\n",
       "    </tr>\n",
       "    <tr>\n",
       "      <th>1</th>\n",
       "      <td>0.099290</td>\n",
       "      <td>1.088187e+06</td>\n",
       "      <td>三亚学院(北校区)</td>\n",
       "      <td>108045.906314</td>\n",
       "      <td>POLYGON ((109.55245 18.34337, 109.55246 18.343...</td>\n",
       "      <td>0.954970</td>\n",
       "      <td>14.4720</td>\n",
       "      <td>10.369685</td>\n",
       "      <td>0.952668</td>\n",
       "    </tr>\n",
       "    <tr>\n",
       "      <th>2</th>\n",
       "      <td>0.007289</td>\n",
       "      <td>4.896646e+05</td>\n",
       "      <td>海南大学(观澜湖校区)</td>\n",
       "      <td>3569.027558</td>\n",
       "      <td>POLYGON ((110.33655 19.92597, 110.33656 19.925...</td>\n",
       "      <td>1.545056</td>\n",
       "      <td>91.2387</td>\n",
       "      <td>110.730790</td>\n",
       "      <td>1.133506</td>\n",
       "    </tr>\n",
       "    <tr>\n",
       "      <th>3</th>\n",
       "      <td>0.181722</td>\n",
       "      <td>8.629453e+05</td>\n",
       "      <td>海口经济学院</td>\n",
       "      <td>156815.887941</td>\n",
       "      <td>POLYGON ((110.48029 19.97086, 110.48022 19.970...</td>\n",
       "      <td>0.607524</td>\n",
       "      <td>22.8205</td>\n",
       "      <td>11.714278</td>\n",
       "      <td>1.254938</td>\n",
       "    </tr>\n",
       "    <tr>\n",
       "      <th>4</th>\n",
       "      <td>0.094855</td>\n",
       "      <td>6.805635e+05</td>\n",
       "      <td>琼台师范学院(桂林洋校区)</td>\n",
       "      <td>64554.718650</td>\n",
       "      <td>POLYGON ((110.51748 19.98019, 110.51749 19.980...</td>\n",
       "      <td>0.885825</td>\n",
       "      <td>22.5384</td>\n",
       "      <td>20.143326</td>\n",
       "      <td>1.039606</td>\n",
       "    </tr>\n",
       "  </tbody>\n",
       "</table>\n",
       "</div>"
      ],
      "text/plain": [
       "   density_BD       areaUTM     campusName             FA  \\\n",
       "0    0.286141  3.891525e+05       海南热带海洋学院  111352.391399   \n",
       "1    0.099290  1.088187e+06      三亚学院(北校区)  108045.906314   \n",
       "2    0.007289  4.896646e+05    海南大学(观澜湖校区)    3569.027558   \n",
       "3    0.181722  8.629453e+05         海口经济学院  156815.887941   \n",
       "4    0.094855  6.805635e+05  琼台师范学院(桂林洋校区)   64554.718650   \n",
       "\n",
       "                                            geometry  buildings_eveness  \\\n",
       "0  POLYGON ((109.53224 18.31567, 109.53225 18.315...           0.584572   \n",
       "1  POLYGON ((109.55245 18.34337, 109.55246 18.343...           0.954970   \n",
       "2  POLYGON ((110.33655 19.92597, 110.33656 19.925...           1.545056   \n",
       "3  POLYGON ((110.48029 19.97086, 110.48022 19.970...           0.607524   \n",
       "4  POLYGON ((110.51748 19.98019, 110.51749 19.980...           0.885825   \n",
       "\n",
       "   NN_avr1     NN_std1      NNI1  \n",
       "0  16.8589   16.900711  1.224885  \n",
       "1  14.4720   10.369685  0.952668  \n",
       "2  91.2387  110.730790  1.133506  \n",
       "3  22.8205   11.714278  1.254938  \n",
       "4  22.5384   20.143326  1.039606  "
      ]
     },
     "execution_count": 110,
     "metadata": {},
     "output_type": "execute_result"
    }
   ],
   "source": [
    "aoi_buildings.drop(columns=['NNI','NN_avr','NN_std'], inplace=True)\n"
   ]
  },
  {
   "cell_type": "code",
   "execution_count": 111,
   "metadata": {},
   "outputs": [
    {
     "data": {
      "text/html": [
       "<div>\n",
       "<style scoped>\n",
       "    .dataframe tbody tr th:only-of-type {\n",
       "        vertical-align: middle;\n",
       "    }\n",
       "\n",
       "    .dataframe tbody tr th {\n",
       "        vertical-align: top;\n",
       "    }\n",
       "\n",
       "    .dataframe thead th {\n",
       "        text-align: right;\n",
       "    }\n",
       "</style>\n",
       "<table border=\"1\" class=\"dataframe\">\n",
       "  <thead>\n",
       "    <tr style=\"text-align: right;\">\n",
       "      <th></th>\n",
       "      <th>density_BD</th>\n",
       "      <th>areaUTM</th>\n",
       "      <th>campusName</th>\n",
       "      <th>FA</th>\n",
       "      <th>geometry</th>\n",
       "      <th>buildings_eveness</th>\n",
       "      <th>NN_avr</th>\n",
       "      <th>NN_std</th>\n",
       "      <th>NNI</th>\n",
       "    </tr>\n",
       "  </thead>\n",
       "  <tbody>\n",
       "    <tr>\n",
       "      <th>0</th>\n",
       "      <td>0.286141</td>\n",
       "      <td>3.891525e+05</td>\n",
       "      <td>海南热带海洋学院</td>\n",
       "      <td>111352.391399</td>\n",
       "      <td>POLYGON ((109.53224 18.31567, 109.53225 18.315...</td>\n",
       "      <td>0.584572</td>\n",
       "      <td>16.8589</td>\n",
       "      <td>16.900711</td>\n",
       "      <td>1.224885</td>\n",
       "    </tr>\n",
       "    <tr>\n",
       "      <th>1</th>\n",
       "      <td>0.099290</td>\n",
       "      <td>1.088187e+06</td>\n",
       "      <td>三亚学院(北校区)</td>\n",
       "      <td>108045.906314</td>\n",
       "      <td>POLYGON ((109.55245 18.34337, 109.55246 18.343...</td>\n",
       "      <td>0.954970</td>\n",
       "      <td>14.4720</td>\n",
       "      <td>10.369685</td>\n",
       "      <td>0.952668</td>\n",
       "    </tr>\n",
       "    <tr>\n",
       "      <th>2</th>\n",
       "      <td>0.007289</td>\n",
       "      <td>4.896646e+05</td>\n",
       "      <td>海南大学(观澜湖校区)</td>\n",
       "      <td>3569.027558</td>\n",
       "      <td>POLYGON ((110.33655 19.92597, 110.33656 19.925...</td>\n",
       "      <td>1.545056</td>\n",
       "      <td>91.2387</td>\n",
       "      <td>110.730790</td>\n",
       "      <td>1.133506</td>\n",
       "    </tr>\n",
       "    <tr>\n",
       "      <th>3</th>\n",
       "      <td>0.181722</td>\n",
       "      <td>8.629453e+05</td>\n",
       "      <td>海口经济学院</td>\n",
       "      <td>156815.887941</td>\n",
       "      <td>POLYGON ((110.48029 19.97086, 110.48022 19.970...</td>\n",
       "      <td>0.607524</td>\n",
       "      <td>22.8205</td>\n",
       "      <td>11.714278</td>\n",
       "      <td>1.254938</td>\n",
       "    </tr>\n",
       "    <tr>\n",
       "      <th>4</th>\n",
       "      <td>0.094855</td>\n",
       "      <td>6.805635e+05</td>\n",
       "      <td>琼台师范学院(桂林洋校区)</td>\n",
       "      <td>64554.718650</td>\n",
       "      <td>POLYGON ((110.51748 19.98019, 110.51749 19.980...</td>\n",
       "      <td>0.885825</td>\n",
       "      <td>22.5384</td>\n",
       "      <td>20.143326</td>\n",
       "      <td>1.039606</td>\n",
       "    </tr>\n",
       "  </tbody>\n",
       "</table>\n",
       "</div>"
      ],
      "text/plain": [
       "   density_BD       areaUTM     campusName             FA  \\\n",
       "0    0.286141  3.891525e+05       海南热带海洋学院  111352.391399   \n",
       "1    0.099290  1.088187e+06      三亚学院(北校区)  108045.906314   \n",
       "2    0.007289  4.896646e+05    海南大学(观澜湖校区)    3569.027558   \n",
       "3    0.181722  8.629453e+05         海口经济学院  156815.887941   \n",
       "4    0.094855  6.805635e+05  琼台师范学院(桂林洋校区)   64554.718650   \n",
       "\n",
       "                                            geometry  buildings_eveness  \\\n",
       "0  POLYGON ((109.53224 18.31567, 109.53225 18.315...           0.584572   \n",
       "1  POLYGON ((109.55245 18.34337, 109.55246 18.343...           0.954970   \n",
       "2  POLYGON ((110.33655 19.92597, 110.33656 19.925...           1.545056   \n",
       "3  POLYGON ((110.48029 19.97086, 110.48022 19.970...           0.607524   \n",
       "4  POLYGON ((110.51748 19.98019, 110.51749 19.980...           0.885825   \n",
       "\n",
       "    NN_avr      NN_std       NNI  \n",
       "0  16.8589   16.900711  1.224885  \n",
       "1  14.4720   10.369685  0.952668  \n",
       "2  91.2387  110.730790  1.133506  \n",
       "3  22.8205   11.714278  1.254938  \n",
       "4  22.5384   20.143326  1.039606  "
      ]
     },
     "execution_count": 111,
     "metadata": {},
     "output_type": "execute_result"
    }
   ],
   "source": [
    "aoi_buildings.rename(columns={'NN_avr1':'NN_avr',\"NN_std1\":\"NN_std\",\"NNI1\":\"NNI\"},inplace=True)\n",
    "aoi_buildings.head()"
   ]
  },
  {
   "cell_type": "code",
   "execution_count": 112,
   "metadata": {},
   "outputs": [],
   "source": [
    "aoi_buildings.to_file(dir+'AOI_gpkg\\\\aoi_buildingIndex.gpkg', driver='GPKG')"
   ]
  },
  {
   "cell_type": "markdown",
   "metadata": {},
   "source": [
    "### 平均朝向"
   ]
  },
  {
   "cell_type": "code",
   "execution_count": 12,
   "metadata": {},
   "outputs": [],
   "source": [
    "# 计算方向\n",
    "def GetBuildingOrient(geom):\n",
    "    points = [Point(geom.exterior.coords[i]) for i in range(0,3)]\n",
    "    detaX = points[0].x - points[1].x\n",
    "    detaY = points[0].y - points[1].y\n",
    "    # 第一条边是不是长边\n",
    "    edge1 = points[0].distance(points[1])\n",
    "    edge2 = points[1].distance(points[2])\n",
    "    if edge1<edge2:\n",
    "        a = detaY\n",
    "        detaY=detaX\n",
    "        detaX=a\n",
    "    # -90~90°\n",
    "    if detaX < 0:\n",
    "        detaX = -detaX\n",
    "        detaY = -detaY\n",
    "    if detaX==0:\n",
    "        angle_degrees = 90\n",
    "    else:\n",
    "        angle = math.atan2(detaY,detaX)\n",
    "        angle_degrees = math.degrees(angle)\n",
    "    if angle_degrees>45:\n",
    "        angle_degrees = angle_degrees-90\n",
    "    elif angle_degrees<-45:\n",
    "        angle_degrees = angle_degrees+90\n",
    "    return angle_degrees"
   ]
  },
  {
   "cell_type": "code",
   "execution_count": 16,
   "metadata": {},
   "outputs": [],
   "source": [
    "def BuildingOrientIndex(gdf):\n",
    "    angles=[]\n",
    "    if gdf['area'].sum()==0:\n",
    "        return 0,0,0,0\n",
    "    for polygon in gdf.geometry:\n",
    "        obb = polygon.minimum_rotated_rectangle\n",
    "        # 求长边的角度\n",
    "        angle = GetBuildingOrient(obb)\n",
    "        angles.append(angle) # 限定在 -45~45\n",
    "        #weighted_angles.append(angle*polygon.area)\n",
    "\n",
    "    gdf['angle']=angles\n",
    "    gdf['weighted_angle']=angles*gdf['area']\n",
    "\n",
    "    # 求平均值、标准差\n",
    "    avr = gdf['angle'].mean()\n",
    "    std = gdf['angle'].std(ddof=0)\n",
    "\n",
    "    # 加权平均、加权标准差\n",
    "    avr_weighted = gdf['weighted_angle'].sum()/gdf['area'].sum()\n",
    "    std_weighted = ((gdf['angle']-avr_weighted)**2*gdf['area']).sum()/gdf['area'].sum()\n",
    "    std_weighted = math.sqrt(std_weighted)\n",
    "\n",
    "    return avr,std,avr_weighted,std_weighted\n",
    "\n",
    "results = {}\n",
    "with ThreadPoolExecutor(max_workers=10) as executor:\n",
    "    # 提交所有任务\n",
    "    futures = [executor.submit(BuildingOrientIndex, gdf) for gdf in gdfs]\n",
    "\n",
    "    # 可选：等待所有任务完成\n",
    "    for i,future in enumerate(futures):\n",
    "        results[i]=future.result()"
   ]
  },
  {
   "cell_type": "code",
   "execution_count": 33,
   "metadata": {},
   "outputs": [],
   "source": [
    "columnNames=['buildings_avr','buildings_std','buildings_avr_weighted','buildings_std_weighted']"
   ]
  },
  {
   "cell_type": "code",
   "execution_count": null,
   "metadata": {},
   "outputs": [],
   "source": [
    "new_columns_data = {col: [values[i] for values in results.values()] for i, col in enumerate(columnNames)}"
   ]
  },
  {
   "cell_type": "code",
   "execution_count": 45,
   "metadata": {},
   "outputs": [],
   "source": [
    "for columnName in columnNames:\n",
    "    aoi_buildings[columnName] = new_columns_data[columnName]"
   ]
  },
  {
   "cell_type": "code",
   "execution_count": 47,
   "metadata": {},
   "outputs": [],
   "source": [
    "aoi_buildings.to_file(dir+'AOI_gpkg\\\\aoi_buildingIndex.gpkg', driver='GPKG')"
   ]
  },
  {
   "cell_type": "markdown",
   "metadata": {},
   "source": [
    "## 3. 绿地"
   ]
  },
  {
   "cell_type": "code",
   "execution_count": 74,
   "metadata": {},
   "outputs": [],
   "source": [
    "t = 'green'\n",
    "dir_green= 'E:\\\\greenland_Campus\\\\GisDataforChina\\\\{}_gpkg\\\\'.format(t)"
   ]
  },
  {
   "cell_type": "code",
   "execution_count": null,
   "metadata": {},
   "outputs": [],
   "source": [
    "range_files = ['E:\\\\greenland_Campus\\\\GisDataforChina\\\\AOI_gpkg\\\\Proj_aoi_{}.gpkg'.format(i)for i in range(0,length)]\n",
    "range_gdfs =  BatchRead_gpkg(range_files)"
   ]
  },
  {
   "cell_type": "code",
   "execution_count": null,
   "metadata": {},
   "outputs": [],
   "source": [
    "# 这边因为之前没有投影对，重新投影处理，分别投影到对应带号的投影坐标系\n",
    "# 如果是对的直接读取投影后的文件即可\n",
    "gpkg_files = [dir_green+'{}_{}.gpkg'.format(t,i) for i in range(0,length)]\n",
    "# 读进内存\n",
    "gdfs = BatchRead_gpkg(gpkg_files)\n",
    "\n",
    "def ProjectionNew(i):\n",
    "    # 从aoi中读取经度\n",
    "    lng = range_gdfs[i].loc[0,'lngC'] \n",
    "    zone_number = int((lng+ 180) / 6) + 1\n",
    "    crs = 'EPSG:326{}'.format(zone_number) \n",
    "\n",
    "    # 将矢量数据转换为投影坐标\n",
    "    gdfs[i]=gdfs[i].to_crs(crs)\n",
    "    gdfs[i].to_file(dir_green+'Proj_{}_{}.gpkg'.format(t,i), driver='GPKG')\n",
    "\n",
    "with ThreadPoolExecutor(max_workers=10) as executor:\n",
    "    # 提交所有任务\n",
    "    futures = [executor.submit(ProjectionNew, i) for i in range(length)]\n",
    "\n",
    "    # 可选：等待所有任务完成\n",
    "    for future in futures:\n",
    "        future.result()  # 这将引发任何在任务中发生的异常"
   ]
  },
  {
   "cell_type": "markdown",
   "metadata": {},
   "source": [
    "### 提取内部的绿地和水域，相交的斑块实施裁剪"
   ]
  },
  {
   "cell_type": "code",
   "execution_count": null,
   "metadata": {},
   "outputs": [],
   "source": [
    "gpkg_files = [dir_green+'Proj_{}_{}.gpkg'.format(t,i) for i in range(0,length)]\n",
    "# 读进内存\n",
    "gdfs = BatchRead_gpkg(gpkg_files)"
   ]
  },
  {
   "cell_type": "code",
   "execution_count": null,
   "metadata": {},
   "outputs": [],
   "source": [
    "gdfs_inside =  [None] * 1623\n",
    "def GetGreenInside(i):\n",
    "    # 提取内部的绿地和水域 (空的怎么办)\n",
    "    selected_gdf =gdfs[i].overlay(range_gdfs[i], how='intersection')[gdfs[i].columns]\n",
    "    # 合并校园内邻近的矢量\n",
    "    selected_gdf = MergeShapefile(selected_gdf,1,recover=False) # 合并后的文件位置\n",
    "\n",
    "    # 计算面积\n",
    "    selected_gdf['area']=selected_gdf.area\n",
    "    # 导出文件\n",
    "    selected_gdf.to_file(dir_green+'1_inside_green_{}.gpkg'.format(i), driver='GPKG')\n",
    "\n",
    "    # 将结果存储在内存\n",
    "    gdfs_inside[i]=selected_gdf\n",
    "\n",
    "    if i%100==1:\n",
    "        print('finish',i)\n",
    "with ThreadPoolExecutor(max_workers=10) as executor:\n",
    "    # 提交所有任务\n",
    "    futures = [executor.submit(GetGreenInside, i) for i in range(0,1263)]\n",
    "\n",
    "    # 可选：等待所有任务完成\n",
    "    for future in futures:\n",
    "        future.result()  # 这将引发任何在任务中发生的异常"
   ]
  },
  {
   "cell_type": "markdown",
   "metadata": {},
   "source": [
    "### 计算指标"
   ]
  },
  {
   "cell_type": "code",
   "execution_count": 88,
   "metadata": {},
   "outputs": [],
   "source": [
    "aoi_green= gpd.read_file(dir+'AOI_gpkg\\\\aoi_greenIndex.gpkg')"
   ]
  },
  {
   "cell_type": "code",
   "execution_count": 75,
   "metadata": {},
   "outputs": [],
   "source": [
    "inside_gpkg_files = [dir_green+'1_inside_{}_{}.gpkg'.format(t,i) for i in range(0,length)]\n",
    "# 读进内存\n",
    "gdfs_inside = BatchRead_gpkg(inside_gpkg_files)"
   ]
  },
  {
   "cell_type": "code",
   "execution_count": null,
   "metadata": {},
   "outputs": [],
   "source": [
    "column_names = ['river_ratio', 'green_ratio', 'green_EdgeDensity',\n",
    "                'green_LPI','green_Fragmentation','green_shapeIndex',\n",
    "                'green_shapeDiversity','green_areaDiversity','green_dist_avr','green_dist_std']\n",
    "for column_name in column_names:\n",
    "    aoi_green[column_name] = None"
   ]
  },
  {
   "cell_type": "code",
   "execution_count": null,
   "metadata": {},
   "outputs": [],
   "source": [
    "for i in range(0,1263):\n",
    "    gdfs_inside[i]['length'] = gdfs_inside[i].geometry.length\n",
    "    series  = [math.sqrt(np.pi*gdfs_inside[i].loc[j,'area'])for j in range(len(gdfs_inside[i]))]\n",
    "    gdfs_inside[i]['shapeIndex']= gdfs_inside[i]['length']/series/2"
   ]
  },
  {
   "cell_type": "code",
   "execution_count": null,
   "metadata": {},
   "outputs": [],
   "source": [
    "def CalGreen(i):\n",
    "    totalArea = aoi_green.loc[i,'areaUTM']\n",
    "    gdf =  gdfs_inside[i].copy()\n",
    "    area = gdf['area'].sum()\n",
    "    \n",
    "    if area==0:\n",
    "        return i,None\n",
    "    \n",
    "    result = {}\n",
    "    \n",
    "    # 河流比例\n",
    "    river_area = gdf[gdf['type'] == 'river']['area'].sum()\n",
    "    result['river_ratio'] = river_area/totalArea\n",
    "    # 绿地比例\n",
    "    greenArea = gdf[gdf['type'] == 'green']['area'].sum()\n",
    "    result['green_ratio'] = greenArea/totalArea\n",
    "    # 景观边缘密度，这里用整个校园的面积\n",
    "    result['green_EdgeDensity']= gdf['length'].sum()/totalArea\n",
    "\n",
    "    # 破碎度：最大斑块指数\n",
    "    result['green_LPI'] = gdf['area'].max()/area\n",
    "    # 破碎度：斑块密度，数量/绿地面积\n",
    "    result['green_Fragmentation']= (len(gdf)-1)/area\n",
    "    # 平均形状指数\n",
    "    result['green_shapeIndex'] = gdf['shapeIndex'].mean()\n",
    "\n",
    "    # 差异度：形状标准差\n",
    "    result['green_shapeDiversity'] = gdf['shapeIndex'].std()\n",
    "    # 差异度：面积,标准差/平均面积\n",
    "    result['green_areaDiversity'] = gdf['area'].std()/area\n",
    "    # 种类？\n",
    "\n",
    "    # 均匀性xx\n",
    "    result['green_dist_avr'], result['green_dist_std'] = NN(gdf)\n",
    "    # green_NNI = NNI(gdf,totalArea)\n",
    "\n",
    "    return i, result\n",
    "\n",
    "with ProcessPoolExecutor() as executor:\n",
    "        futures = [executor.submit(CalGreen, i) for i in range(0,1263)]\n",
    "        results = []\n",
    "        for future in as_completed(futures):\n",
    "            result = future.result()\n",
    "            if result[1] is not None:\n",
    "                results[result[0]] = result[1]\n",
    "\n",
    "for i, data in results.items():\n",
    "        for key, value in data.items():\n",
    "            aoi_green.at[i, key] = value\n",
    "\n"
   ]
  },
  {
   "cell_type": "markdown",
   "metadata": {},
   "source": [
    "### 均衡性"
   ]
  },
  {
   "cell_type": "code",
   "execution_count": 87,
   "metadata": {},
   "outputs": [],
   "source": [
    "results = {}\n",
    "for i in range(1263):\n",
    "    results[i] = PolygonEveness(grid_gdfs[i],gdfs_inside[i],'green_area')\n",
    "aoi_green['green_eveness'] = results\n",
    "aoi_green.to_file(dir+'AOI_gpkg\\\\aoi_greenIndex.gpkg', driver='GPKG')"
   ]
  },
  {
   "cell_type": "code",
   "execution_count": null,
   "metadata": {},
   "outputs": [],
   "source": [
    "# 多样性、服务水平(和建筑的关系)"
   ]
  },
  {
   "cell_type": "markdown",
   "metadata": {},
   "source": [
    "## 4. 道路"
   ]
  },
  {
   "cell_type": "code",
   "execution_count": 5,
   "metadata": {},
   "outputs": [],
   "source": [
    "t = 'road'\n",
    "dir_road= 'E:\\\\greenland_Campus\\\\GisDataforChina\\\\{}_gpkg\\\\'.format(t)"
   ]
  },
  {
   "cell_type": "markdown",
   "metadata": {},
   "source": [
    "利用qgis的空间连接（按位置连接属性）把属性添加上"
   ]
  },
  {
   "cell_type": "code",
   "execution_count": null,
   "metadata": {},
   "outputs": [],
   "source": [
    "processing.run(\"native:joinattributesbylocation\", {'INPUT':'E:/greenland_Campus/GisDataforChina/road_gpkg/CenterLine_road_0.gpkg','PREDICATE':[0],'JOIN':'E:/greenland_Campus/GisDataforChina/road_gpkg/Proj_road_0.gpkg','JOIN_FIELDS':[],'METHOD':2,'DISCARD_NONMATCHING':False,'PREFIX':'','OUTPUT':'ogr:dbname=\\'E:/greenland_Campus/GisDataforChina/road_gpkg/NCenterline_0.gpkg\\' table=\"road\" (geom)'})"
   ]
  },
  {
   "cell_type": "code",
   "execution_count": null,
   "metadata": {},
   "outputs": [],
   "source": [
    "gpkg_files = [dir_road+'1_centerLine_{}_{}.gpkg'.format(t,i) for i in range(0,length)]\n",
    "# 读进内存\n",
    "gdfs = BatchRead_gpkg(gpkg_files)"
   ]
  },
  {
   "cell_type": "code",
   "execution_count": null,
   "metadata": {},
   "outputs": [],
   "source": [
    "range_files = [dir+'AOI_gpkg\\\\Proj_aoi_{}.gpkg'.format(i)for i in range(0,length)]\n",
    "range_gdfs =  BatchRead_gpkg(range_files)"
   ]
  },
  {
   "cell_type": "code",
   "execution_count": null,
   "metadata": {},
   "outputs": [],
   "source": [
    "# 这边因为之前没有投影对，重新投影处理，分别投影到对应带号的投影坐标系\n",
    "# 如果是对的直接读取投影后的文件即可\n",
    "\n",
    "def ProjectionNew(i):\n",
    "    \n",
    "    # 将矢量数据转换为投影坐标\n",
    "    gdfs[i]=gdfs[i].to_crs(range_gdfs[i].crs)\n",
    "    gdfs[i].to_file(gpkg_files[i], driver='GPKG')\n",
    "\n",
    "with ThreadPoolExecutor(max_workers=10) as executor:\n",
    "    # 提交所有任务\n",
    "    futures = [executor.submit(ProjectionNew, i) for i in range(length)]\n",
    "\n",
    "    # 可选：等待所有任务完成\n",
    "    for future in futures:\n",
    "        future.result()  # 这将引发任何在任务中发生的异常"
   ]
  },
  {
   "cell_type": "code",
   "execution_count": null,
   "metadata": {},
   "outputs": [],
   "source": [
    "# 裁剪 内部\n",
    "gdfs_inside =  [None] * 1623\n",
    "def GetRoadInside(i):\n",
    "    # 提取内部的道路 (有空的)\n",
    "    selected_gdf =gdfs[i].overlay(range_gdfs[i], how='intersection')[gdfs[i].columns]\n",
    "\n",
    "    # 计算len\n",
    "    selected_gdf['length']=selected_gdf.length\n",
    "    selected_gdf.dissolve(by='DN', aggfunc='sum')\n",
    "\n",
    "    selected_gdf= selected_gdf[selected_gdf['length']>5]\n",
    "    selected_gdf.explode()\n",
    "    # 导出文件\n",
    "    selected_gdf.to_file(gpkg_files[i].replace('1_centerLine','inside'), driver='GPKG')\n",
    "\n",
    "    # 将结果存储在内存\n",
    "    gdfs_inside[i]=selected_gdf\n",
    "\n",
    "    if i%100==1:\n",
    "        print('finish',i)\n",
    "with ThreadPoolExecutor(max_workers=10) as executor: \n",
    "    # 提交所有任务\n",
    "    futures = [executor.submit(GetRoadInside, i) for i in range(0,1263)]\n",
    "\n",
    "    # 可选：等待所有任务完成\n",
    "    for future in futures:\n",
    "        future.result()  # 这将引发任何在任务中发生的异常"
   ]
  },
  {
   "cell_type": "markdown",
   "metadata": {},
   "source": [
    "### index"
   ]
  },
  {
   "cell_type": "code",
   "execution_count": null,
   "metadata": {},
   "outputs": [],
   "source": [
    "import networkx as nx"
   ]
  },
  {
   "cell_type": "code",
   "execution_count": 6,
   "metadata": {},
   "outputs": [],
   "source": [
    "gpkg_files = [dir_road+'inside_{}_{}.gpkg'.format(t,i) for i in range(0,length)]\n",
    "# 读进内存\n",
    "gdfs_inside = BatchRead_gpkg(gpkg_files)"
   ]
  },
  {
   "cell_type": "code",
   "execution_count": 7,
   "metadata": {},
   "outputs": [],
   "source": [
    "aoi_road = gpd.read_file(dir+'AOI_gpkg\\\\aoi_roadIndex.gpkg')"
   ]
  },
  {
   "cell_type": "code",
   "execution_count": null,
   "metadata": {},
   "outputs": [],
   "source": [
    "def ToGraph(gdf):\n",
    "    G = nx.Graph()\n",
    "\n",
    "    # 遍历GeoDataFrame中的每个线要素（道路）\n",
    "    for index,row in gdf.iterrows():\n",
    "        geom = row.geometry\n",
    "        coords = list(geom.coords)  # 获取线的所有顶点坐标\n",
    "        \n",
    "        # 提取线的端点\n",
    "        if len(coords) > 0:\n",
    "            start_point = coords[0]\n",
    "            end_point = coords[-1]\n",
    "            \n",
    "            # 添加端点到图中\n",
    "            if not G.has_node(start_point):\n",
    "                G.add_node(start_point)\n",
    "            if not G.has_node(end_point):\n",
    "                G.add_node(end_point)\n",
    "            \n",
    "            # 添加边到图中\n",
    "            G.add_edge(start_point, end_point,length=geom.length,weight=row['DN'])\n",
    "        \n",
    "        \n",
    "    return G"
   ]
  },
  {
   "cell_type": "code",
   "execution_count": null,
   "metadata": {},
   "outputs": [],
   "source": [
    "def CalRoadIndex(i):\n",
    "    G = ToGraph(gdfs_inside[i].explode())\n",
    "    result = {}\n",
    "    # basic index\n",
    "    result['intersection_count'] = sum(1 for node, degree in G.degree() if degree > 1)\n",
    "    result['segment_counts'] = G.number_of_edges()\n",
    "    result['total_length'] = sum(G[u][v]['length'] for u, v in G.edges())\n",
    "    result['total_length_weighted'] = sum(G[u][v]['length']*G[u][v]['weight'] for u, v in G.edges())\n",
    "\n",
    "    #nx.write_gpickle(G, dir_road+'G_inside_{}.gpickle')\n",
    "    nx.write_graphml(G, dir_road+f'G_inside_{i}.gpickle.graphml')  \n",
    "    return i,result\n",
    "with ThreadPoolExecutor() as executor:\n",
    "        futures = [executor.submit(CalRoadIndex, i) for i in range(1263)]\n",
    "        results = {}\n",
    "        for future in as_completed(futures):\n",
    "            result = future.result()\n",
    "            if result[1] is not None:\n",
    "                results[result[0]] = result[1]\n",
    "\n",
    "for i, data in results.items():\n",
    "        for key, value in data.items():\n",
    "            aoi_road.at[i, key] = value\n"
   ]
  },
  {
   "cell_type": "code",
   "execution_count": null,
   "metadata": {},
   "outputs": [],
   "source": [
    "aoi_road['road_density'] = aoi_road['total_length_weighted'] / aoi_road['areaUTM']\n",
    "aoi_road['avr_length']= aoi_road['total_length'] / aoi_road['segment_counts']\n",
    "aoi_road['intersection_Density']= aoi_road['intersection_count'] / aoi_road['areaUTM']\n",
    "aoi_road['complexsity'] = aoi_road['total_length'] * aoi_road['intersection_count']+1"
   ]
  },
  {
   "cell_type": "code",
   "execution_count": null,
   "metadata": {},
   "outputs": [],
   "source": [
    "aoi_road.to_file(dir+'AOI_gpkg\\\\aoi_roadIndex.gpkg')"
   ]
  },
  {
   "cell_type": "code",
   "execution_count": null,
   "metadata": {},
   "outputs": [],
   "source": [
    "# first_edge = list(G.edges(data=False))[0]"
   ]
  },
  {
   "cell_type": "code",
   "execution_count": null,
   "metadata": {},
   "outputs": [],
   "source": [
    "# 绘图\n",
    "pos = {node: node for node in G.nodes()}\n",
    "nx.draw(G, pos, with_labels=False,node_size=20)\n",
    "plt.show()"
   ]
  },
  {
   "cell_type": "markdown",
   "metadata": {},
   "source": [
    "### NNI"
   ]
  },
  {
   "cell_type": "code",
   "execution_count": null,
   "metadata": {},
   "outputs": [],
   "source": [
    "from shapely.geometry import LineString, Point"
   ]
  },
  {
   "cell_type": "code",
   "execution_count": null,
   "metadata": {},
   "outputs": [],
   "source": [
    "def road_NNI(i):\n",
    "   \n",
    "    gdf = gdfs_inside[i].explode()\n",
    "    area = aoi_road.loc[i,'areaUTM']\n",
    "    if gdf.shape[0]==0:\n",
    "        return i,0\n",
    "    # 初始化一个列表来存储最近邻距离\n",
    "    nearest_distances = []\n",
    "\n",
    "    gdf['centroid'] = gdf.geometry.centroid\n",
    "\n",
    "    # 对于每个建筑物，找出最近的邻居并计算距离\n",
    "    for index, geom in gdf.iterrows():\n",
    "        # 找出除自身外最近的\n",
    "        possible_neighbors = gdf.index.difference([index])\n",
    "        distances = gdf.loc[possible_neighbors,'centroid'].distance(geom['centroid'])\n",
    "        nearest_neighbor_distance = distances.min()\n",
    "        \n",
    "        # 将最近邻距离添加到列表中\n",
    "        nearest_distances.append(nearest_neighbor_distance)\n",
    "\n",
    "    # 计算平均最近邻指数\n",
    "    dd = 0.5/math.sqrt(gdf.shape[0]/area)\n",
    "    nni = np.mean(nearest_distances)/dd\n",
    "\n",
    "    return i,nni"
   ]
  },
  {
   "cell_type": "code",
   "execution_count": null,
   "metadata": {},
   "outputs": [],
   "source": [
    "with ThreadPoolExecutor() as executor:\n",
    "        futures = [executor.submit(road_NNI, i) for i in range(602,1263)]\n",
    "        results = {}\n",
    "        for future in futures:\n",
    "            result = future.result()\n",
    "            aoi_road.at[result[0], 'road_nni'] = result[1]"
   ]
  },
  {
   "cell_type": "code",
   "execution_count": null,
   "metadata": {},
   "outputs": [],
   "source": [
    "aoi_road.to_file(dir+'AOI_gpkg\\\\aoi_roadIndex.gpkg')"
   ]
  },
  {
   "cell_type": "markdown",
   "metadata": {},
   "source": [
    "### 均衡性"
   ]
  },
  {
   "cell_type": "code",
   "execution_count": 56,
   "metadata": {},
   "outputs": [],
   "source": [
    "grid_files = [dir+'AOI_gpkg\\\\0_Grid_{}.gpkg'.format(i)for i in range(0,length)]\n",
    "grid_gdfs = BatchRead_gpkg(grid_files)"
   ]
  },
  {
   "cell_type": "code",
   "execution_count": 66,
   "metadata": {},
   "outputs": [],
   "source": [
    "# 遍历渔网的每个多边形\n",
    "def RoadEveness(grid,road):\n",
    "    # grid = grid_gdfs[i]\n",
    "    # road = gdfs_inside[i]\n",
    "    result_gdf = grid\n",
    "    result_gdf['total_road_length'] = 0.0  # 初始化道路长度字段\n",
    "\n",
    "    for index, net_polygon in grid.iterrows():\n",
    "        net_geometry = net_polygon['geometry']\n",
    "        \n",
    "        # 遍历道路的每个线要素\n",
    "        for road_index, road_line in road.iterrows():\n",
    "            road_geometry = road_line['geometry']\n",
    "            \n",
    "            # 检查道路是否与渔网多边形相交\n",
    "            if net_geometry.intersects(road_geometry):\n",
    "                # 计算交集部分\n",
    "                intersection = net_geometry.intersection(road_geometry)\n",
    "                \n",
    "                # 如果交集是 LineString，计算其长度并累加到结果中\n",
    "                if intersection.geom_type == 'LineString':\n",
    "                    result_gdf.at[index, 'total_road_length'] += intersection.length\n",
    "    # 删除过小的部分\n",
    "    result_gdf=result_gdf[result_gdf['area']>1/3*result_gdf['area'].mean()]\n",
    "    # 标准差\n",
    "    mean = result_gdf.total_road_length.mean()\n",
    "    std = result_gdf.total_road_length.std(ddof=1)\n",
    "    eveness = std/mean\n",
    "    return eveness"
   ]
  },
  {
   "cell_type": "code",
   "execution_count": null,
   "metadata": {},
   "outputs": [],
   "source": [
    "results = {}\n",
    "for i in range(1263):\n",
    "    results[i] = RoadEveness(grid_gdfs[i],gdfs_inside[i])"
   ]
  },
  {
   "cell_type": "code",
   "execution_count": 67,
   "metadata": {},
   "outputs": [],
   "source": [
    "with ThreadPoolExecutor(max_workers=10) as executor:\n",
    "    futures = [executor.submit(RoadEveness, grid_gdfs[i],gdfs_inside[i]) for i in range(1263)]\n",
    "    results = {}\n",
    "    for i,future in enumerate(futures):\n",
    "        result = future.result()\n",
    "        results[i] = result"
   ]
  },
  {
   "cell_type": "code",
   "execution_count": 71,
   "metadata": {},
   "outputs": [],
   "source": [
    "\n",
    "aoi_road['road_eveness'] = results\n",
    "aoi_road"
   ]
  },
  {
   "cell_type": "code",
   "execution_count": 73,
   "metadata": {},
   "outputs": [],
   "source": [
    "aoi_road.to_file(dir+'AOI_gpkg\\\\aoi_roadIndex.gpkg')"
   ]
  }
 ],
 "metadata": {
  "kernelspec": {
   "display_name": "base",
   "language": "python",
   "name": "python3"
  },
  "language_info": {
   "codemirror_mode": {
    "name": "ipython",
    "version": 3
   },
   "file_extension": ".py",
   "mimetype": "text/x-python",
   "name": "python",
   "nbconvert_exporter": "python",
   "pygments_lexer": "ipython3",
   "version": "3.9.18"
  }
 },
 "nbformat": 4,
 "nbformat_minor": 2
}
